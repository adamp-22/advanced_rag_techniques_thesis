{
 "cells": [
  {
   "cell_type": "markdown",
   "id": "17832b7a",
   "metadata": {},
   "source": [
    "# Agentic RAG System\n",
    "This notebook implements a fully agentic Retrieval-Augmented Generation (RAG) workflow for answering complex questions grounded in documents such as NVIDIA's 10-K filings. It combines LangChain’s composable chains and retrievers with LangSmith’s tracing and evaluation capabilities to build, inspect, and optimize the system end to end.\n",
    "\n",
    "Overview of Features:\n",
    "- **Question Rewriting**: Reformulates user questions into more retrieval-effective queries using a language model.\n",
    "- **Context Retrieval**: Retrieves passages from both detailed and summary vector stores to ensure semantic coverage.\n",
    "- **Context Filtering**: Applies an LLM-based step to eliminate irrelevant content from retrieved documents.\n",
    "- **Answer Generation with Chain-of-Thought**: Uses structured reasoning to produce grounded, explainable answers from context.\n",
    "- **Evaluation and Quality Control**:\n",
    "    - Detects hallucinated answers via factual grounding checks.\n",
    "    - Determines whether the question can be fully answered by the retrieved context.\n",
    "    - Grades the relevance of retrieved documents to the question.\n",
    "    - Optionally compares the generated answer to reference answers using LangSmith’s evaluation suite.\n",
    "\n",
    "This notebook provides a flexible and testable RAG architecture suitable for high-stakes domains such as finance, legal, and research where traceability and factual consistency are essential.\n",
    "\n"
   ]
  },
  {
   "cell_type": "code",
   "execution_count": 1,
   "id": "2e70fdbd",
   "metadata": {},
   "outputs": [
    {
     "name": "stdout",
     "output_type": "stream",
     "text": [
      "Environment Variables Set:\n",
      "LANGSMITH_TRACING: true\n",
      "LANGSMITH_ENDPOINT: https://api.smith.langchain.com\n",
      "LANGSMITH_PROJECT: RAG_Agent_Partial_2\n"
     ]
    }
   ],
   "source": [
    "import os\n",
    "\n",
    "# Set environment variables\n",
    "os.environ[\"LANGSMITH_TRACING\"] = \"true\"\n",
    "os.environ[\"LANGSMITH_ENDPOINT\"] = \"https://api.smith.langchain.com\"\n",
    "os.environ[\"LANGSMITH_PROJECT\"] = \"Agentic RAG\"\n",
    "\n",
    "\n",
    "# Verify that the environment variables are set\n",
    "print(\"Environment Variables Set:\")\n",
    "print(f'LANGSMITH_TRACING: {os.getenv(\"LANGSMITH_TRACING\")}')\n",
    "print(f'LANGSMITH_ENDPOINT: {os.getenv(\"LANGSMITH_ENDPOINT\")}')\n",
    "print(f'LANGSMITH_PROJECT: {os.getenv(\"LANGSMITH_PROJECT\")}')"
   ]
  },
  {
   "cell_type": "code",
   "execution_count": 2,
   "id": "40d807f1",
   "metadata": {},
   "outputs": [
    {
     "name": "stderr",
     "output_type": "stream",
     "text": [
      "/Users/user/anaconda3/lib/python3.11/site-packages/IPython/core/interactiveshell.py:3548: LangChainDeprecationWarning: As of langchain-core 0.3.0, LangChain uses pydantic v2 internally. The langchain_core.pydantic_v1 module was a compatibility shim for pydantic v1, and should no longer be used. Please update the code to import from Pydantic directly.\n",
      "\n",
      "For example, replace imports like: `from langchain_core.pydantic_v1 import BaseModel`\n",
      "with: `from pydantic import BaseModel`\n",
      "or the v1 compatibility namespace if you are working in a code base that has not been fully upgraded to pydantic 2 yet. \tfrom pydantic.v1 import BaseModel\n",
      "\n",
      "  exec(code_obj, self.user_global_ns, self.user_ns)\n"
     ]
    }
   ],
   "source": [
    "from langchain_openai import ChatOpenAI \n",
    "from langchain.document_loaders import  PyPDFLoader\n",
    "from langchain.vectorstores import  FAISS\n",
    "from langchain.text_splitter import  RecursiveCharacterTextSplitter\n",
    "from langchain.embeddings import OpenAIEmbeddings \n",
    "from langchain.prompts import PromptTemplate\n",
    "from langchain.docstore.document import Document\n",
    "from langchain.chains.summarize import load_summarize_chain\n",
    "from langchain_core.pydantic_v1 import BaseModel, Field\n",
    "from langchain_core.output_parsers import JsonOutputParser\n",
    "from langchain_core.runnables.graph import MermaidDrawMethod\n",
    "from langsmith import traceable\n",
    "import langgraph\n",
    "\n",
    "from langgraph.graph import END, StateGraph\n"
   ]
  },
  {
   "cell_type": "code",
   "execution_count": 3,
   "id": "35651337",
   "metadata": {
    "scrolled": false
   },
   "outputs": [
    {
     "name": "stdout",
     "output_type": "stream",
     "text": [
      "Enter your OpenAI API key: ········\n"
     ]
    }
   ],
   "source": [
    "import getpass\n",
    "import os\n",
    "\n",
    "if \"OPENAI_API_KEY\" not in os.environ:\n",
    "    os.environ[\"OPENAI_API_KEY\"] = getpass.getpass(\"Enter your OpenAI API key: \")"
   ]
  },
  {
   "cell_type": "markdown",
   "id": "a5e70000",
   "metadata": {},
   "source": [
    "## LLM and Embedding Model"
   ]
  },
  {
   "cell_type": "code",
   "execution_count": 4,
   "id": "09b383c7",
   "metadata": {},
   "outputs": [],
   "source": [
    "# Load LLM\n",
    "llm = ChatOpenAI(\n",
    "    model=\"gpt-4o-mini\",\n",
    "    temperature=0,\n",
    "    max_tokens=8000,\n",
    ")\n"
   ]
  },
  {
   "cell_type": "markdown",
   "id": "cd429e16",
   "metadata": {},
   "source": [
    "## Loading Data/Vector Stores"
   ]
  },
  {
   "cell_type": "code",
   "execution_count": 5,
   "id": "5696e70b",
   "metadata": {},
   "outputs": [],
   "source": [
    "from langchain_openai import OpenAIEmbeddings\n",
    "\n",
    "summary_vectorstore = FAISS.load_local(\"summary_vectorstore_new\", OpenAIEmbeddings(model=\"text-embedding-3-large\"), allow_dangerous_deserialization=True)\n",
    "detailed_vectorstore = FAISS.load_local(\"nvidia_chunk_semantic\",  OpenAIEmbeddings(model=\"text-embedding-3-large\"), allow_dangerous_deserialization=True)"
   ]
  },
  {
   "cell_type": "markdown",
   "id": "d7cb84f2",
   "metadata": {},
   "source": [
    "## Retrieve Context from Detailed and Summary Stores"
   ]
  },
  {
   "cell_type": "code",
   "execution_count": 6,
   "id": "efca2611",
   "metadata": {},
   "outputs": [],
   "source": [
    "@traceable\n",
    "def retrieve_context_per_question(state):\n",
    "    \"\"\"\n",
    "    Retrieves relevant context for a given question from detailed and summary vector stores.\n",
    "    \"\"\"\n",
    "    question = state[\"question\"]\n",
    "\n",
    "    print(\"Retrieving relevant detailed chunks...\")\n",
    "    detailed_docs = detailed_vectorstore.as_retriever(search_kwargs={\"k\": 5}).get_relevant_documents(question)\n",
    "\n",
    "    detailed_context = \" \".join(doc.page_content for doc in detailed_docs)\n",
    "\n",
    "    print(\"Retrieving relevant page summaries...\")\n",
    "    summary_docs = summary_vectorstore.as_retriever(search_kwargs={\"k\": 3}).get_relevant_documents(question)\n",
    "\n",
    "    summary_context = \" \".join(\n",
    "        f\"{doc.page_content} (Page {doc.metadata.get('page', 'unknown')})\"\n",
    "        for doc in summary_docs\n",
    "    )\n",
    "\n",
    "    # Combine both contexts (detailed and summary)\n",
    "    all_contexts = detailed_context + \"\\n\\n\" + summary_context\n",
    "    all_contexts = escape_quotes(all_contexts)\n",
    "\n",
    "    return {\"context\": all_contexts, \"question\": question}"
   ]
  },
  {
   "cell_type": "markdown",
   "id": "b148093c",
   "metadata": {},
   "source": [
    "## Filter Irrelevant Content from Retrieved Chunks"
   ]
  },
  {
   "cell_type": "code",
   "execution_count": 7,
   "id": "20238eb4",
   "metadata": {},
   "outputs": [
    {
     "name": "stderr",
     "output_type": "stream",
     "text": [
      "/Users/user/anaconda3/lib/python3.11/site-packages/langchain_openai/chat_models/base.py:1360: UserWarning: Received a Pydantic BaseModel V1 schema. This is not supported by method=\"json_schema\". Please use method=\"function_calling\" or specify schema via JSON Schema or Pydantic V2 BaseModel. Overriding to method=\"function_calling\".\n",
      "  warnings.warn(\n"
     ]
    }
   ],
   "source": [
    "keep_only_relevant_content_prompt_template = \"\"\"you receive a query: {query} and retrieved documents: {retrieved_documents} from a\n",
    " vector store.\n",
    " You need to filter out all the non relevant information that don't supply important information regarding the {query}.\n",
    " your goal is just to filter out the non relevant information.\n",
    " you can remove parts of sentences that are not relevant to the query or remove whole sentences that are not relevant to the query.\n",
    " DO NOT ADD ANY NEW INFORMATION THAT IS NOT IN THE RETRIEVED DOCUMENTS.\n",
    " output the filtered relevant content.\n",
    "\"\"\"\n",
    "\n",
    "\n",
    "class KeepRelevantContent(BaseModel):\n",
    "    relevant_content: str = Field(description=\"The relevant content from the retrieved documents that is relevant to the query.\")\n",
    "\n",
    "keep_only_relevant_content_prompt = PromptTemplate(\n",
    "    template=keep_only_relevant_content_prompt_template,\n",
    "    input_variables=[\"query\", \"retrieved_documents\"],\n",
    ")\n",
    "\n",
    "\n",
    "keep_only_relevant_content_llm = ChatOpenAI(temperature=0, model_name=\"gpt-4o-mini\", max_tokens=2000)\n",
    "keep_only_relevant_content_chain = keep_only_relevant_content_prompt | keep_only_relevant_content_llm.with_structured_output(KeepRelevantContent)"
   ]
  },
  {
   "cell_type": "code",
   "execution_count": 8,
   "id": "8246e529",
   "metadata": {},
   "outputs": [],
   "source": [
    "def escape_quotes(text):\n",
    "  \"\"\"Escapes both single and double quotes in a string.\n",
    "\n",
    "  Args:\n",
    "    text: The string to escape.\n",
    "\n",
    "  Returns:\n",
    "    The string with single and double quotes escaped.\n",
    "  \"\"\"\n",
    "  return text.replace('\"', '\\\\\"').replace(\"'\", \"\\\\'\")"
   ]
  },
  {
   "cell_type": "markdown",
   "id": "75d89edd",
   "metadata": {},
   "source": [
    "## Extract Only Query-Relevant Content"
   ]
  },
  {
   "cell_type": "code",
   "execution_count": 9,
   "id": "69e8a5aa",
   "metadata": {},
   "outputs": [],
   "source": [
    "@traceable\n",
    "def keep_only_relevant_content(state):\n",
    "    \"\"\"\n",
    "    Keeps only the relevant content from the retrieved documents that is relevant to the query.\n",
    "\n",
    "    Args:\n",
    "        question: The query question.\n",
    "        context: The retrieved documents.\n",
    "        chain: The LLMChain instance.\n",
    "\n",
    "    Returns:\n",
    "        The relevant content from the retrieved documents that is relevant to the query.\n",
    "    \"\"\"\n",
    "    question = state[\"question\"]\n",
    "    context = state[\"context\"]\n",
    "\n",
    "    input_data = {\n",
    "    \"query\": question,\n",
    "    \"retrieved_documents\": context\n",
    "}\n",
    "    print(\"keeping only the relevant content...\")\n",
    "    print(\"--------------------\")\n",
    "    output = keep_only_relevant_content_chain.invoke(input_data)\n",
    "    relevant_content = output.relevant_content\n",
    "    relevant_content = \"\".join(relevant_content)\n",
    "    relevant_content = escape_quotes(relevant_content)\n",
    "\n",
    "    return {\"relevant_context\": relevant_content, \"context\": context, \"question\": question}"
   ]
  },
  {
   "cell_type": "markdown",
   "id": "6245c157",
   "metadata": {},
   "source": [
    "## Rewrite Question for Better Retrieval"
   ]
  },
  {
   "cell_type": "code",
   "execution_count": 10,
   "id": "1030a62a",
   "metadata": {},
   "outputs": [],
   "source": [
    "from langchain_core.output_parsers import JsonOutputParser\n",
    "\n",
    "class RewriteQuestion(BaseModel):\n",
    "    \"\"\"\n",
    "    Output schema for the rewritten question.\n",
    "    \"\"\"\n",
    "    rewritten_question: str = Field(description=\"The improved question optimized for vectorstore retrieval.\")\n",
    "    explanation: str = Field(description=\"The explanation of the rewritten question.\")\n",
    "\n",
    "rewrite_question_string_parser = JsonOutputParser(pydantic_object=RewriteQuestion)\n",
    "\n",
    "\n",
    "rewrite_llm = llm\n",
    "rewrite_prompt_template = \"\"\"You are a question re-writer that converts an input question to a better version optimized for vectorstore retrieval.\n",
    " Analyze the input question {question} and try to reason about the underlying semantic intent / meaning.\n",
    " {format_instructions}\n",
    " \"\"\"\n",
    "\n",
    "rewrite_prompt = PromptTemplate(\n",
    "    template=rewrite_prompt_template,\n",
    "    input_variables=[\"question\"],\n",
    "    partial_variables={\"format_instructions\": rewrite_question_string_parser.get_format_instructions()},\n",
    ")\n",
    "\n",
    "question_rewriter = rewrite_prompt | rewrite_llm | rewrite_question_string_parser  # Combine prompt, LLM, and parser\n",
    "\n",
    "@traceable\n",
    "def rewrite_question(state):\n",
    "    \"\"\"Rewrites the given question using the LLM.\n",
    "\n",
    "    Args:\n",
    "        state: A dictionary containing the question to rewrite.\n",
    "    \"\"\"\n",
    "    question = state[\"question\"]\n",
    "    print(\"Rewriting the question...\")\n",
    "    result = question_rewriter.invoke({\"question\": question})\n",
    "    new_question = result[\"rewritten_question\"]\n",
    "    print(new_question)\n",
    "    return {\"question\": new_question}"
   ]
  },
  {
   "cell_type": "markdown",
   "id": "7fff343e",
   "metadata": {},
   "source": [
    "## Experiment - Everything Up Until Now"
   ]
  },
  {
   "cell_type": "markdown",
   "id": "efcca847",
   "metadata": {},
   "source": [
    "Experiment how it's working up until now."
   ]
  },
  {
   "cell_type": "code",
   "execution_count": 11,
   "id": "ff30edd0",
   "metadata": {},
   "outputs": [],
   "source": [
    "@traceable\n",
    "def process_query(question):\n",
    "    state = {\"question\": question}\n",
    "\n",
    "    # 1. Rewrite question to improve retrieval quality\n",
    "    state.update(rewrite_question(state))\n",
    "\n",
    "    # 2. Retrieve both summary and detailed context\n",
    "    state.update(retrieve_context_per_question(state))\n",
    "\n",
    "    # 3. Filter to keep only relevant content\n",
    "    state.update(keep_only_relevant_content(state))\n",
    "\n",
    "    # 4. Return final result\n",
    "    return state[\"relevant_context\"]"
   ]
  },
  {
   "cell_type": "code",
   "execution_count": 12,
   "id": "a9ae7d0c",
   "metadata": {},
   "outputs": [
    {
     "name": "stdout",
     "output_type": "stream",
     "text": [
      "Rewriting the question...\n",
      "Who currently holds the position of CEO at NVIDIA?\n",
      "Retrieving relevant detailed chunks...\n"
     ]
    },
    {
     "name": "stderr",
     "output_type": "stream",
     "text": [
      "/var/folders/8_/66zkglc51d973l0mk64lcrkc0000gn/T/ipykernel_67536/2765202389.py:9: LangChainDeprecationWarning: The method `BaseRetriever.get_relevant_documents` was deprecated in langchain-core 0.1.46 and will be removed in 1.0. Use :meth:`~invoke` instead.\n",
      "  detailed_docs = detailed_vectorstore.as_retriever(search_kwargs={\"k\": 5}).get_relevant_documents(question)\n"
     ]
    },
    {
     "name": "stdout",
     "output_type": "stream",
     "text": [
      "Retrieving relevant page summaries...\n",
      "keeping only the relevant content...\n",
      "--------------------\n",
      "\n",
      "=== Final Filtered Relevant Context ===\n",
      "As of February 16, 2024, Jen-Hsun Huang is the President and Chief Executive Officer of NVIDIA. He co-founded NVIDIA in 1993 and has served as CEO since the company\\'s inception.\n"
     ]
    }
   ],
   "source": [
    "if __name__ == \"__main__\":\n",
    "    query = \"Who is the CEO of NVIDIA?\"\n",
    "    final_context = process_query(query)\n",
    "\n",
    "    print(\"\\n=== Final Filtered Relevant Context ===\")\n",
    "    print(final_context)"
   ]
  },
  {
   "cell_type": "markdown",
   "id": "ea86620e",
   "metadata": {},
   "source": [
    "## Answer with Chain-of-Thought Reasoning from Context"
   ]
  },
  {
   "cell_type": "code",
   "execution_count": 13,
   "id": "e856a7bc",
   "metadata": {},
   "outputs": [
    {
     "name": "stderr",
     "output_type": "stream",
     "text": [
      "/Users/user/anaconda3/lib/python3.11/site-packages/langchain_openai/chat_models/base.py:1360: UserWarning: Received a Pydantic BaseModel V1 schema. This is not supported by method=\"json_schema\". Please use method=\"function_calling\" or specify schema via JSON Schema or Pydantic V2 BaseModel. Overriding to method=\"function_calling\".\n",
      "  warnings.warn(\n"
     ]
    }
   ],
   "source": [
    "class QuestionAnswerFromContext(BaseModel):\n",
    "    answer_based_on_content: str = Field(description=\"generates an answer to a query based on a given context.\")\n",
    "\n",
    "question_answer_from_context_llm = ChatOpenAI(temperature=0, model_name=\"gpt-4o-mini\", max_tokens=2000)\n",
    "\n",
    "question_answer_cot_prompt_template = \"\"\" \n",
    "Examples of Chain-of-Thought Reasoning\n",
    "\n",
    "Example 1\n",
    "Context: Mary is taller than Jane. Jane is shorter than Tom. Tom is the same height as David.\n",
    "Question: Who is the tallest person?\n",
    "Reasoning Chain:\n",
    "The context tells us Mary is taller than Jane.\n",
    "It also says Jane is shorter than Tom.\n",
    "And Tom is the same height as David.\n",
    "So the order from tallest to shortest is: Mary, Tom/David, Jane.\n",
    "Therefore, Mary must be the tallest person.\n",
    "\n",
    "Example 2\n",
    "Context: NVIDIA reported record revenue in 2024, driven by strong demand for AI chips and data center products. However, the company also cited risks related to supply chain disruptions and increasing regulatory scrutiny.\n",
    "Question: What factors contributed to NVIDIA’s record revenue in 2024?\n",
    "Reasoning Chain:\n",
    "The context states that NVIDIA reported record revenue in 2024.\n",
    "It attributes this growth to strong demand for AI chips and data center products.\n",
    "Therefore, the main factors contributing to NVIDIA’s record revenue are the increasing demand for AI hardware and growth in the data center segment.\n",
    "\n",
    "Instructions:\n",
    "For the question below, provide your answer by first showing your step-by-step reasoning process, breaking down the problem into a chain of thought before arriving at the final answer, just like in the previous examples.\n",
    "\n",
    "Context:\n",
    "{context}\n",
    "\n",
    "Question:\n",
    "{question}\n",
    "\"\"\"\n",
    "\n",
    "\n",
    "question_answer_from_context_cot_prompt = PromptTemplate(\n",
    "    template=question_answer_cot_prompt_template,\n",
    "    input_variables=[\"context\", \"question\"],\n",
    ")\n",
    "question_answer_from_context_cot_chain = question_answer_from_context_cot_prompt | question_answer_from_context_llm.with_structured_output(QuestionAnswerFromContext)\n",
    "\n",
    "@traceable\n",
    "def answer_question_from_context(state):\n",
    "    \"\"\"\n",
    "    Answers a question from a given context.\n",
    "\n",
    "    Args:\n",
    "        question: The query question.\n",
    "        context: The context to answer the question from.\n",
    "        chain: The LLMChain instance.\n",
    "\n",
    "    Returns:\n",
    "        The answer to the question from the context.\n",
    "    \"\"\"\n",
    "    question = state[\"question\"]\n",
    "    context = state[\"aggregated_context\"] if \"aggregated_context\" in state else state[\"context\"]\n",
    "\n",
    "    input_data = {\n",
    "    \"question\": question,\n",
    "    \"context\": context\n",
    "}\n",
    "    print(\"Answering the question from the retrieved context...\")\n",
    "\n",
    "    output = question_answer_from_context_cot_chain.invoke(input_data)\n",
    "    answer = output.answer_based_on_content\n",
    "    print(f'answer before checking hallucination: {answer}')\n",
    "    return {\"answer\": answer, \"context\": context, \"question\": question}"
   ]
  },
  {
   "cell_type": "markdown",
   "id": "6fd5682f",
   "metadata": {},
   "source": [
    "## Create graph edges"
   ]
  },
  {
   "cell_type": "code",
   "execution_count": 14,
   "id": "5eee98ed",
   "metadata": {},
   "outputs": [],
   "source": [
    "is_relevant_content_prompt_template = \"\"\"you receive a query: {query} and a context: {context} retrieved from a vector store. \n",
    "You need to determine if the document is relevant to the query. \n",
    "\n",
    "{format_instructions}\"\"\"\n",
    "\n",
    "class Relevance(BaseModel):\n",
    "    is_relevant: bool = Field(description=\"Whether the document is relevant to the query.\")\n",
    "    explanation: str = Field(description=\"An explanation of why the document is relevant or not.\")\n",
    "\n",
    "is_relevant_json_parser = JsonOutputParser(pydantic_object=Relevance)\n",
    "# is_relevant_llm = ChatGroq(temperature=0, model_name=\"llama3-70b-8192\", groq_api_key=groq_api_key, max_tokens=4000)\n",
    "is_relevant_llm = llm\n",
    "\n",
    "\n",
    "\n",
    "is_relevant_content_prompt = PromptTemplate(\n",
    "    template=is_relevant_content_prompt_template,\n",
    "    input_variables=[\"query\", \"context\"],\n",
    "    partial_variables={\"format_instructions\": is_relevant_json_parser.get_format_instructions()},\n",
    ")\n",
    "is_relevant_content_chain = is_relevant_content_prompt | is_relevant_llm | is_relevant_json_parser\n",
    "\n",
    "@traceable\n",
    "def is_relevant_content(state):\n",
    "    \"\"\"\n",
    "    Determines if the document is relevant to the query.\n",
    "\n",
    "    Args:\n",
    "        question: The query question.\n",
    "        context: The context to determine relevance.\n",
    "    \"\"\"\n",
    "\n",
    "    question = state[\"question\"]\n",
    "    context = state[\"context\"]\n",
    "\n",
    "    input_data = {\n",
    "    \"query\": question,\n",
    "    \"context\": context\n",
    "}\n",
    "\n",
    "    # Invoke the chain to determine if the document is relevant\n",
    "    output = is_relevant_content_chain.invoke(input_data)\n",
    "    print(\"Determining if the document is relevant...\")\n",
    "    if output[\"is_relevant\"] == True:\n",
    "        print(\"The document is relevant.\")\n",
    "        return \"relevant\"\n",
    "    else:\n",
    "        print(\"The document is not relevant.\")\n",
    "        return \"not relevant\""
   ]
  },
  {
   "cell_type": "markdown",
   "id": "ef8a93db",
   "metadata": {},
   "source": [
    "### LLM chain to check if an answer is a hallucination or grounded on facts"
   ]
  },
  {
   "cell_type": "code",
   "execution_count": 15,
   "id": "378fbf2b",
   "metadata": {},
   "outputs": [],
   "source": [
    "class is_grounded_on_facts(BaseModel):\n",
    "    \"\"\"\n",
    "    Output schema for the rewritten question.\n",
    "    \"\"\"\n",
    "    grounded_on_facts: bool = Field(description=\"Answer is grounded in the facts, 'yes' or 'no'\")\n",
    "\n",
    "is_grounded_on_facts_llm = llm\n",
    "is_grounded_on_facts_prompt_template = \"\"\"You are a fact-checker that determines if the given answer {answer} is grounded in the given context {context}\n",
    "you don't mind if it doesn't make sense, as long as it is grounded in the context.\n",
    "output a json containing the answer to the question, and appart from the json format don't output any additional text.\n",
    "\n",
    " \"\"\"\n",
    "is_grounded_on_facts_prompt = PromptTemplate(\n",
    "    template=is_grounded_on_facts_prompt_template,\n",
    "    input_variables=[\"context\", \"answer\"],\n",
    ")\n",
    "is_grounded_on_facts_chain = is_grounded_on_facts_prompt | is_grounded_on_facts_llm.with_structured_output(is_grounded_on_facts)"
   ]
  },
  {
   "cell_type": "markdown",
   "id": "26146734",
   "metadata": {},
   "source": [
    "### LLM chain to determine if a question can be fully answered given a context"
   ]
  },
  {
   "cell_type": "code",
   "execution_count": 16,
   "id": "56cd419f",
   "metadata": {},
   "outputs": [],
   "source": [
    "can_be_answered_prompt_template = \"\"\"You receive a query: {question} and a context: {context}. \n",
    "You need to determine if the question can be fully answered based on the context.\n",
    "{format_instructions}\n",
    "\"\"\"\n",
    "class QuestionAnswer(BaseModel):\n",
    "    can_be_answered: bool = Field(description=\"binary result of whether the question can be fully answered or not\")\n",
    "    explanation: str = Field(description=\"An explanation of why the question can be fully answered or not.\")\n",
    "\n",
    "can_be_answered_json_parser = JsonOutputParser(pydantic_object=QuestionAnswer)\n",
    "\n",
    "answer_question_prompt = PromptTemplate(\n",
    "    template=can_be_answered_prompt_template,\n",
    "    input_variables=[\"question\",\"context\"],\n",
    "    partial_variables={\"format_instructions\": can_be_answered_json_parser.get_format_instructions()},\n",
    ")\n",
    "\n",
    "can_be_answered_llm = llm\n",
    "can_be_answered_chain = answer_question_prompt | can_be_answered_llm | can_be_answered_json_parser"
   ]
  },
  {
   "cell_type": "markdown",
   "id": "53876dac",
   "metadata": {},
   "source": [
    "### Function to check both cases - hallucination and full answer"
   ]
  },
  {
   "cell_type": "code",
   "execution_count": 17,
   "id": "d0d2278c",
   "metadata": {},
   "outputs": [],
   "source": [
    "@traceable\n",
    "def grade_generation_v_documents_and_question(state):\n",
    "    \"\"\"\n",
    "    Grades the generation of the answer to the question based on the context, if it is grounded in the facts, and if the question can be fully answered\n",
    "\n",
    "    Args:\n",
    "        state: A dictionary containing the context, question, and answer.\n",
    "    \"\"\"\n",
    "    \n",
    "    print(\"Checking if the answer is grounded in the facts...\")\n",
    "    context = state[\"context\"]\n",
    "    answer = state[\"answer\"]\n",
    "    question = state[\"question\"]\n",
    "    \n",
    "    result = is_grounded_on_facts_chain.invoke({\"context\": context, \"answer\": answer})\n",
    "    grounded_on_facts = result.grounded_on_facts\n",
    "    if not grounded_on_facts:\n",
    "        print(\"The answer is hallucination.\")\n",
    "        return \"hallucination\"\n",
    "    else:\n",
    "        print(\"The answer is grounded in the facts.\")\n",
    "\n",
    "        input_data = {\n",
    "            \"question\": question,\n",
    "            \"context\": context\n",
    "        }\n",
    "\n",
    "        # Invoke the chain to determine if the question can be answered\n",
    "        print(\"Determining if the question is fully answered...\")\n",
    "        output = can_be_answered_chain.invoke(input_data)\n",
    "        can_be_answered = output[\"can_be_answered\"]\n",
    "        if can_be_answered == True:\n",
    "            print(\"The question can be fully answered.\")\n",
    "            return \"useful\"\n",
    "        else:\n",
    "            print(\"The question cannot be fully answered.\")\n",
    "            return \"not_useful\""
   ]
  },
  {
   "cell_type": "code",
   "execution_count": 18,
   "id": "2f540105",
   "metadata": {},
   "outputs": [
    {
     "name": "stdout",
     "output_type": "stream",
     "text": [
      "Retrieving relevant detailed chunks...\n",
      "Retrieving relevant page summaries...\n",
      "keeping only the relevant content...\n",
      "--------------------\n",
      "Determining if the document is relevant...\n",
      "The document is relevant.\n",
      "Answering the question from the retrieved context...\n",
      "answer before checking hallucination: The context states that Jen-Hsun Huang co-founded NVIDIA in 1993 and has served as the President and Chief Executive Officer since the company's inception.\n",
      "Checking if the answer is grounded in the facts...\n",
      "The answer is grounded in the facts.\n",
      "Determining if the question is fully answered...\n",
      "The question can be fully answered.\n",
      "The context states that Jen-Hsun Huang co-founded NVIDIA in 1993 and has served as the President and Chief Executive Officer since the company's inception.\n"
     ]
    }
   ],
   "source": [
    "init_state = {\"question\": \"When did the CEO join NVIDIA?\"}  # The question to answer\n",
    "context_state = retrieve_context_per_question(init_state)  # Retrieve context for the question\n",
    "relevant_content_state = keep_only_relevant_content(context_state)  # Keep only the relevant content\n",
    "is_relevant_content_state = is_relevant_content(relevant_content_state) # Check if the content is relevant\n",
    "answer_state = answer_question_from_context(relevant_content_state) # Answer the question from the context\n",
    "final_answer = grade_generation_v_documents_and_question(answer_state) # Grade the answer\n",
    "print(answer_state[\"answer\"])"
   ]
  },
  {
   "cell_type": "markdown",
   "id": "2db41970",
   "metadata": {},
   "source": [
    "## Build Qualitative Retrieval → Rewrite → Answer Graph Workflow"
   ]
  },
  {
   "cell_type": "code",
   "execution_count": 19,
   "id": "5ee359ea",
   "metadata": {},
   "outputs": [
    {
     "data": {
      "image/png": "[encoded data removed]",
      "text/plain": [
       "<IPython.core.display.Image object>"
      ]
     },
     "metadata": {},
     "output_type": "display_data"
    }
   ],
   "source": [
    "from typing_extensions import TypedDict\n",
    "from IPython.display import display, Image\n",
    "\n",
    "class QualitativeRetievalAnswerGraphState(TypedDict):\n",
    "\n",
    "    question: str\n",
    "    context: str\n",
    "    answer: str\n",
    "\n",
    "# Create the graph\n",
    "qualitative_retrieval_answer_workflow = StateGraph(QualitativeRetievalAnswerGraphState)\n",
    "\n",
    "# Define the nodes\n",
    "\n",
    "# Add the nodes to the graph\n",
    "qualitative_retrieval_answer_workflow.add_node(\"retrieve_context_per_question\",retrieve_context_per_question)\n",
    "qualitative_retrieval_answer_workflow.add_node(\"keep_only_relevant_content\",keep_only_relevant_content)\n",
    "qualitative_retrieval_answer_workflow.add_node(\"rewrite_question\",rewrite_question)\n",
    "qualitative_retrieval_answer_workflow.add_node(\"answer_question_from_context\",answer_question_from_context)\n",
    "\n",
    "# Build the graph\n",
    "qualitative_retrieval_answer_workflow.set_entry_point(\"retrieve_context_per_question\")\n",
    "qualitative_retrieval_answer_workflow.add_edge(\"retrieve_context_per_question\", \"keep_only_relevant_content\")\n",
    "qualitative_retrieval_answer_workflow.add_conditional_edges(\n",
    "    \"keep_only_relevant_content\",\n",
    "    is_relevant_content,\n",
    "    {\"relevant\":\"answer_question_from_context\",\n",
    "      \"not relevant\":\"rewrite_question\"},\n",
    "    )\n",
    "qualitative_retrieval_answer_workflow.add_edge(\"rewrite_question\", \"retrieve_context_per_question\")\n",
    "qualitative_retrieval_answer_workflow.add_conditional_edges(\n",
    "\"answer_question_from_context\",\n",
    "grade_generation_v_documents_and_question,\n",
    "{\"hallucination\":\"answer_question_from_context\",\n",
    "\"not_useful\":\"rewrite_question\",\n",
    "\"useful\":END},\n",
    ")\n",
    "\n",
    "qualitative_retrieval_answer_retrival_app = qualitative_retrieval_answer_workflow.compile()\n",
    "\n",
    "display(\n",
    "    Image(\n",
    "        qualitative_retrieval_answer_retrival_app.get_graph().draw_mermaid_png(\n",
    "            draw_method=MermaidDrawMethod.API,\n",
    "        )\n",
    "    )\n",
    ")"
   ]
  },
  {
   "cell_type": "code",
   "execution_count": 20,
   "id": "28bfd8b4",
   "metadata": {},
   "outputs": [
    {
     "name": "stdout",
     "output_type": "stream",
     "text": [
      "Retrieving relevant detailed chunks...\n",
      "Retrieving relevant page summaries...\n",
      "keeping only the relevant content...\n",
      "--------------------\n",
      "Determining if the document is relevant...\n",
      "The document is relevant.\n",
      "Answering the question from the retrieved context...\n",
      "answer before checking hallucination: Colette M. Kress is the Chief Financial Officer (CFO) of NVIDIA. She joined NVIDIA in 2013 as Executive Vice President and Chief Financial Officer. Before joining NVIDIA, she served as Senior Vice President and Chief Financial Officer of the Business Technology and Operations Finance organization at Cisco Systems, Inc. since 2010. At Cisco, she was responsible for financial strategy, planning, reporting, and business development for all business segments. Prior to her time at Cisco, Kress held various positions at Microsoft from 1997 to 2010, including Chief Financial Officer of the Server and Tools division. \n",
      "\n",
      "Regarding the Arm Acquisition, the termination of the Share Purchase Agreement between NVIDIA and SoftBank was announced in February 2022. Since Colette M. Kress joined NVIDIA in 2013, she was indeed already at the firm when the Arm Acquisition was terminated.\n",
      "Checking if the answer is grounded in the facts...\n",
      "The answer is grounded in the facts.\n",
      "Determining if the question is fully answered...\n",
      "The question can be fully answered.\n",
      "Final Answer: Colette M. Kress is the Chief Financial Officer (CFO) of NVIDIA. She joined NVIDIA in 2013 as Executive Vice President and Chief Financial Officer. Before joining NVIDIA, she served as Senior Vice President and Chief Financial Officer of the Business Technology and Operations Finance organization at Cisco Systems, Inc. since 2010. At Cisco, she was responsible for financial strategy, planning, reporting, and business development for all business segments. Prior to her time at Cisco, Kress held various positions at Microsoft from 1997 to 2010, including Chief Financial Officer of the Server and Tools division. \n",
      "\n",
      "Regarding the Arm Acquisition, the termination of the Share Purchase Agreement between NVIDIA and SoftBank was announced in February 2022. Since Colette M. Kress joined NVIDIA in 2013, she was indeed already at the firm when the Arm Acquisition was terminated.\n"
     ]
    }
   ],
   "source": [
    "# Invoke the graph with your question\n",
    "result = qualitative_retrieval_answer_retrival_app.invoke({\n",
    "    \"question\": \"What is the lifestory of NVIDIA’s CFO, was he/she already at the firm when the Arm Acquisition was terminated?\",\n",
    "    \"context\": \"\",  # Start with an empty context\n",
    "    \"answer\": \"\"   # Start with an empty answer\n",
    "})\n",
    "\n",
    "# Print the final result\n",
    "print(\"Final Answer:\", result[\"answer\"])"
   ]
  },
  {
   "cell_type": "code",
   "execution_count": 24,
   "id": "5b010d27",
   "metadata": {},
   "outputs": [
    {
     "data": {
      "text/plain": [
       "\"Table of Contents\\nOur support is enhanced during times of crisis, such as war or economic volatility, to take care of our existing team of world-class talent and their families. Diversity, Inclusion, and Belonging\\nWe believe that diverse teams fuel innovation, and we are committed to creating an inclusive culture that supports all employees. When recruiting for new talent or developing our current employees, we strive to build a diverse talent pipeline that includes those underrepresented in thetechnology field, including women, Black/African American, and Hispanic/Latino candidates. To this end, we have been:\\n• Partnering with institutions and professional organizations serving historically underrepresented communities;\\n• Embedding dedicated recruiting teams to business areas to shepherd underrepresented candidates through the interview process and find internalopportunities;\\n• Supporting the development of women employees through programs aimed at building a pipeline of future leaders;\\n• Providing peer support and executive sponsors for our internal community resource groups;\\n• Providing training and education to managers and peers on fostering supportive environments and recruiting for diversity;\\n• Track equity and parity in retention, promotions, pay, and employee engagement scores; and\\n• Measuring year over year progress and providing leadership visibility on diversity efforts. As of the end of fiscal year 2024, our global workforce was 79% male, 20% female, and 1% not declared, with 6% of our workforce in the United States\\ncomposed of Black or African American and Hispanic or Latino employees. Flexible Working Environment\\nWe support a flexible work environment, understanding that many employees want the ability to work from home under certain conditions. This flexibility\\nsupports diverse hiring, retention, and employee engagement, which we believe makes NVIDIA a great place to work. During fiscal year 2025, we will continue to have a flexible work environment and maintain our company wide 2-days off a quarter for employees to rest and\\nrecharge. Information About Our Executive Officers\\nThe following sets forth certain information regarding our executive officers, their ages, and positions as of February 16, 2024:\\nName Age Position\\nJen-Hsun Huang 60 President and Chief Executive Officer\\nColette M. Kress 56 Executive Vice President and Chief Financial Officer\\nAjay K. Puri 69 Executive Vice President, Worldwide Field Operations\\nDebora Shoquist 69 Executive Vice President, Operations\\nTimothy S. Teter 57 Executive Vice President and General Counsel\\nJen-Hsun Huang co-founded NVIDIA in 1993 and has served as our President, Chief Executive Officer, and a member of the Board of Directors since ourinception. From 1985 to 1993, Mr. Table of Contents\\nstrategy, planning, reporting and business development for the division. Prior to joining Microsoft, Ms. Kress spent eight years at Texas Instruments Incorporated,a semiconductor company, where she held a variety of finance positions. Ms. Kress holds a B.S. degree in Finance from University of Arizona and an M.B.A.degree from Southern Methodist University. Ajay K. Puri joined NVIDIA in 2005 as Senior Vice President, Worldwide Sales and became Executive Vice President, Worldwide Field Operations in 2009. Priorto NVIDIA, he held positions in sales, marketing, and general management over a 22-year career at Sun Microsystems, Inc., a computing systems company. Mr. Puri previously held marketing, management consulting, and product development positions at Hewlett-Packard, an information technology company, Booz AllenHamilton Inc., a management and technology consulting company, and Texas Instruments Incorporated. Mr. Puri holds a B.S.E.E. degree from the University ofMinnesota, an M.S.E.E. degree from the California Institute of Technology and an M.B.A. Colette M. Kress joined NVIDIA in 2013 as Executive Vice President and Chief Financial Officer. Prior to NVIDIA, Ms. Kress most recently served as Senior\\nVice President and Chief Financial Officer of the Business Technology and Operations Finance organization at Cisco Systems, Inc., a networking equipmentcompany, since 2010. At Cisco, Ms. Kress was responsible for financial strategy, planning, reporting and business development for all business segments,\\nengineering and operations. From 1997 to 2010 Ms. Kress held a variety of positions at Microsoft, a software company, including, beginning in 2006, ChiefFinancial Officer of the Server and Tools division, where Ms. Kress was responsible for financial\\n12 Timothy S. Teter joined NVIDIA in 2017 as Senior Vice President, General Counsel and Secretary and became Executive Vice President, General Counsel andSecretary in February 2018. Prior to NVIDIA, Mr. Teter spent more than two decades at the law firm of Cooley LLP, where he focused on litigating patent and\\ntechnology related matters. Prior to attending law school, he worked as an engineer at Lockheed Missiles and Space Company, an aerospace company. Mr.Teter holds a B.S. degree in Mechanical Engineering from the University of California at Davis and a J.D. We are currently evaluating the impact of this standard on our Consolidated Financial Statements. Note 2 - Business Combination\\nTermination of the Arm Share Purchase Agreement\\nIn February 2022, NVIDIA and SoftBank Group Corp, or SoftBank, announced the termination of the Share Purchase Agreement whereby NVIDIA would have\\nacquired Arm from SoftBank. The parties agreed to terminate it due to significant regulatory challenges preventing the completion of the transaction. Werecorded an acquisition termination cost of $1.4 billion in fiscal year 2023 reflecting the write-off of the prepayment provided at signing. Note 3 - Leases\\nOur lease obligations primarily consist of operating leases for our headquarters complex, domestic and international office facilities, and data center space, withlease periods expiring between fiscal years 2025 and 2035. Future minimum lease payments under our non-cancelable operating leases as of January 28, 2024, are as follows:\\nOperating Lease Obligations\\n (In millions)\\nFiscal Year:  \\n2025 $ 290 \\n2026 270 \\n2027 253 \\n2028 236 \\n2029 202 \\n2030 and thereafter 288 \\nTotal 1,539 \\nLess imputed interest 192 \\nPresent value of net future minimum lease payments 1,347 \\nLess short-term operating lease liabilities 228 \\nLong-term operating lease liabilities $ 1,119 \\nIn addition, we have operating leases, primarily for our data centers, that are expected to commence within fiscal year 2025 with lease terms of 1 to 10 years for\\n$1.1 billion. Operating lease expenses for fiscal years 2024, 2023, and 2022 were $269 million, $193 million, $168 million, respectively. Short-term and variable leaseexpenses for fiscal years 2024, 2023, and 2022 were not significant. 60\\n\\nThe document details NVIDIA\\\\'s leadership team, showcasing the extensive qualifications of key executives such as Ms. Kress, Mr. Puri, Ms. Shoquist, and Mr. Teter in finance, sales, operations, and law. It also mentions the availability of financial reports and highlights significant risk factors affecting the company\\\\'s performance, including industry demand, competition, supply chain reliance, product defects, and economic conditions. (Page 12) On February 21, 2024, NVIDIA Corporation submitted a report, signed by CEO Jen-Hsun Huang, in accordance with the Securities Exchange Act of 1934. The report includes a Power of Attorney designating Huang and Colette M.Kress as attorneys-in-fact to sign amendments and file related documents with the SEC. (Page 83) Colette M. Kress, CFO of NVIDIA, certifies that the company\\\\'s Annual Report on Form 10-K for the year ending January 28, 2024, complies with the Securities Exchange Act and accurately reflects its financial status. This certification, dated February 21, 2024, will be retained by NVIDIA and is not filed with the SEC. (Page 90)\""
      ]
     },
     "execution_count": 24,
     "metadata": {},
     "output_type": "execute_result"
    }
   ],
   "source": [
    "result[\"context\"]"
   ]
  },
  {
   "cell_type": "markdown",
   "id": "f477c32c",
   "metadata": {},
   "source": [
    "## RAG Evaluation Dataset"
   ]
  },
  {
   "cell_type": "code",
   "execution_count": 25,
   "id": "b301e312",
   "metadata": {},
   "outputs": [
    {
     "name": "stdout",
     "output_type": "stream",
     "text": [
      "{'question': \"What was NVIDIA's revenue in 2024 and 2023? Which year saw higher revenues and by how much?\"}\n",
      "{'answer': \"Revenue in 2024 was $60,922 million ($60.9 billion) , revenue in 2023 was $26,974 million ($27.0 billion). NVIDIA's revenue increased by $33,948 million (or $33.95 billion depending on the rounding) in 2024 compared to 2023.\"}\n",
      "{'question': 'Between January 29, 2023, and January 28, 2024, NVIDIA’s total assets increased by approximately $24.5 billion. Based on the balance sheet, which two line items contributed the most to this increase, and what does this suggest about the company’s capital deployment focus?'}\n",
      "{'answer': 'Between January 29, 2023, and January 28, 2024, NVIDIA’s total assets increased by approximately $24.5 billion, rising from $41.2 billion to $65.7 billion. Based on the balance sheet, the two line items that contributed the most to this increase were marketable securities, which increased from $9.9 billion to $18.7 billion, and cash and cash equivalents, which increased from $3.4 billion to $7.3 billion. Together, these two line items account for approximately $13.7 billion of the total asset increase. This suggests that NVIDIA’s capital deployment focus emphasized preserving liquidity and flexibility, likely to ensure the company maintains ample financial resources for future strategic opportunities, such as potential acquisitions, research and development investments, or shareholder returns. The strong growth in these liquid assets highlights a preference for maintaining a robust financial position, possibly in response to the dynamic technology landscape and potential geopolitical or economic uncertainties.\\n'}\n",
      "{'question': \"In fiscal year 2024, NVIDIA generated a substantial increase in operating cash flow compared to fiscal year 2023. However, despite this cash inflow, the company's cash balance at year-end only increased modestly. Analyze the main drivers behind this modest cash increase and discuss what this reveals about NVIDIA’s capital allocation priorities and potential financial strategy.\"}\n",
      "{'answer': \"In fiscal year 2024, NVIDIA generated a substantial increase in operating cash flow compared to fiscal year 2023. However, despite this cash inflow, the company's cash balance at year-end only increased modestly. Net cash provided by operating activities increased from $5.6 billion in FY23 to $28.1 billion in FY24 — an increase of over $22 billion. This massive improvement reflects the sharp rise in net income (from $4.4 billion to $29.8 billion), combined with adjustments like $3.5 billion in stock-based compensation and favorable working capital movements (notably accounts payable and accrued liabilities). Despite this influx, NVIDIA’s cash balance only increased from $3.39 billion to $7.28 billion — a $3.89 billion increase. This is modest compared to the $28.1 billion operating cash inflow. $18.2 billion was spent on marketable securities purchases, exceeding maturities and sales (combined inflow of just $9.78 billion). $9.53 billion was spent on stock repurchases, showing NVIDIA’s continued focus on returning capital to shareholders. $2.78 billion was used for tax payments on restricted stock units, another shareholder-related cash outflow. $395 million was paid in dividends. $1.07 billion was spent on capital expenditures. NVIDIA prioritized reinvesting cash into marketable securities, perhaps to preserve flexibility for future strategic opportunities (acquisitions, R&D expansion, etc.). The second major priority was shareholder returns, particularly through aggressive share repurchases and some dividend payments. Capital expenditures were relatively modest compared to the overall cash generation, suggesting that NVIDIA’s core business currently operates with low capital intensity — typical for a fabless semiconductor firm. The combination of aggressive buybacks, tax payments on equity compensation, and heavy marketable securities investment reveals NVIDIA’s financial strategy: balancing short-term shareholder returns with maintaining long-term flexibility for future opportunities. This pattern also highlights that a large portion of the company’s excess cash flow was effectively parked, rather than directly deployed into operating or capital investments\\n\"}\n",
      "{'question': \"How does the conflict in Israel effect NVIDIA's business? How many people are affected? What proportion is that relative to NVIDIA's complete workforce?\"}\n",
      "{'answer': 'The conflict in Israel affects NVIDIA’s business by impacting the health and safety of approximately 3,700 employees in the region, who are primarily involved in research and development, operations, and sales and marketing of NVIDIA’s networking products. While NVIDIA’s global supply chain for networking products has not experienced significant impacts, a substantial number of employees in Israel have been called up for active military duty, which has caused and could continue to cause some disruption to product development and operations. NVIDIA’s operating expenses for fiscal year 2024 include costs related to financial support for impacted employees and charitable activity. Although there was no significant impact on business operations or expenses in fiscal year 2024, NVIDIA acknowledges that a prolonged or escalated conflict could impact future product development, operations, revenue, or create other uncertainties for the business.\\nOut of NVIDIA’s approximately 29,600 employees globally at the end of fiscal year 2024, the 3,700 employees in Israel represent roughly 12.5% of the total workforce.\\n'}\n",
      "{'question': 'Who joined NVIDIA latest out of the executive officers and when?'}\n",
      "{'answer': 'The executive officer who joined NVIDIA most recently is Timothy S. Teter, who joined NVIDIA in 2017 as Senior Vice President, General Counsel and Secretary, and became Executive Vice President, General Counsel and Secretaryin February 2018.'}\n",
      "{'question': 'What types of costs does NVIDIA have, and how have these costs changed over time as a percentage of revenue?'}\n",
      "{'answer': \"NVIDIA's costs can be categorized into the following types: cost of revenue, research and development, sales, general and administrative, and in 2023, there was an acquisition termination cost. To assess how these costs have changed over time as a percentage of revenue, the following calculations apply.\\nCost of revenue as a percentage of revenue in 2024 is calculated as 16,621 divided by 60,922, which equals approximately 27.3%. In 2023, it is 11,618 divided by 26,974, equaling approximately 43.1%. In 2022, it is 9,439 divided by 26,914, equaling approximately 35.1%.\\nResearch and development as a percentage of revenue in 2024 is calculated as 8,675 divided by 60,922, which equals approximately 14.2%. In 2023, it is 7,339 divided by 26,974, equaling approximately 27.2%. In 2022, it is 5,268 divided by 26,914, equaling approximately 19.6%.\\nSales, general and administrative as a percentage of revenue in 2024 is calculated as 2,654 divided by 60,922, which equals approximately 4.4%. In 2023, it is 2,440 divided by 26,974, equaling approximately 9.0%. In 2022, it is 2,166 divided by 26,914, equaling approximately 8.0%.\\nThe acquisition termination cost only occurred in 2023 and as a percentage of revenue is calculated as 1,353 divided by 26,974, equaling approximately 5.0%.\\nOver time, cost of revenue has decreased significantly as a percentage of revenue, from about 35.1% in 2022 to 27.3% in 2024, showing improved gross margin. Research and development costs also declined as a percentage of revenue from 27.2% in 2023 to 14.2% in 2024, though they rose slightly in absolute terms. Sales, general and administrative expenses shrank as a percentage of revenue from 9.0% in 2023 to 4.4% in 2024. In 2023, there was a one-time acquisition termination cost, which was 5.0% of revenue, but this was absent in 2024 and 2022. Overall, NVIDIA’s costs as a proportion of revenue have decreased across all major categories, indicating improved efficiency and profitability in 2024.\\n\"}\n",
      "{'question': 'What is the lifestory of NVIDIA’s CFO, was he/she already at the firm when the Arm Acquisition was terminated?'}\n",
      "{'answer': 'Colette M. Kress joined NVIDIA in 2013 as Executive Vice President and Chief Financial Officer, meaning she was already at the firm when the Arm acquisition was terminated in February 2022. Prior to joining NVIDIA, she served as Senior Vice President and Chief Financial Officer of the Business Technology and Operations Finance organization at Cisco Systems, Inc., where she was responsible for financial strategy, planning, reporting, and business development across all business segments, engineering, and operations. Before Cisco, she spent over a decade at Microsoft, where she held several roles, including Chief Financial Officer of the Server and Tools division starting in 2006, responsible for financial strategy, planning, reporting, and business development for that division. Prior to Microsoft, she spent eight years at Texas Instruments Incorporated in various finance positions. Ms. Kress holds a Bachelor of Science degree in Finance from the University of Arizona and an MBA from Southern Methodist University.'}\n",
      "{'question': 'What was the working capital of NVIDIA in 2024? What does it indicate?'}\n",
      "{'answer': 'NVIDIA’s working capital for the year ending January 28, 2024, was $33,714 million, calculated by subtracting total current liabilities of $10,631 million from total current assets of $44,345 million. This significant positive working capital indicates that NVIDIA has a very strong liquidity position, meaning it can easily cover its short-term obligations. It also reflects financial flexibility, giving NVIDIA the ability to invest in growth opportunities, research, development, and acquisitions without liquidity concerns. Overall, this high working capital highlights NVIDIA’s excellent financial health in terms of short-term solvency and operational strength.\\n'}\n",
      "{'question': 'How does NVIDIA perform across different regions in the global market?'}\n",
      "{'answer': 'Based on the document NVIDIA’s revenue performance across different regions shows significant growth in the United States, with revenue increasing from $8.3 billion in fiscal year 2023 to $27.0 billion in fiscal year 2024, driven primarily by higher demand in the Compute & Networking segment. Taiwan also saw strong revenue growth, increasing from $7.0 billion in fiscal year 2023 to $13.4 billion in fiscal year 2024. Revenue from China, including Hong Kong, increased from $5.8 billion to $10.3 billion over the same period, while revenue from other countries rose from $5.9 billion to $10.2 billion. Although NVIDIA saw strong revenue growth in the U.S., sales to customers outside the United States still accounted for 56% of total revenue in fiscal year 2024, highlighting the company’s significant international presence despite the U.S. becoming a larger revenue source compared to prior years.\\n'}\n",
      "{'question': \"Are there more men or women in NVIDIA's workforce? Are there more technical or non-technical people hired?\"}\n",
      "{'answer': 'There are more men than women in NVIDIA’s workforce, as 79% of the global workforce is male and 20% is female. There are also more technical people than non-technical people hired, as 83% of the workforce is technical.'}\n",
      "{'question': 'How does NVIDIA ensure that its autonomous vehicle platform can meet the safety and complexity requirements of modern AV and EV systems?'}\n",
      "{'answer': 'NVIDIA’s AV platform, branded as DRIVE, is designed and implemented from the ground up based on automotive safety standards. It uses multiple neural networks to handle complex perception, localization, and planning tasks, replacing legacy hand-coded approaches. The platform also includes GPU-based hardware for training and re-simulation to test software updates before deployment.\\n'}\n",
      "{'question': 'How does NVIDIA’s approach to AI training and inferencing across data center-scale solutions demonstrate full-stack innovation, and how does NVIDIA’s ecosystem contribute to reinforcing its leadership position in AI?'}\n",
      "{'answer': 'NVIDIA’s approach to AI training and inferencing demonstrates full-stack innovation by providing a complete, end-to-end accelerated computing platform that spans data center-scale compute and networking solutions across GPUs, CPUs, DPUs, interconnects, systems, and software. This comprehensive coverage allows NVIDIA to optimize performance at every level, from hardware to software, ensuring seamless integration and efficiency for AI workloads. NVIDIA’s ecosystem further reinforces its leadership position in AI through a large and expanding global network of over 4.7 million developers using CUDA and other software tools, along with partnerships with hundreds of universities and thousands of startups through its Inception program, creating a virtuous cycle where broader adoption drives further innovation and leadership.\\n'}\n",
      "{'question': 'List all key competitors identified in NVIDIA’s 10-K filing. What strategies, products, or initiatives are these competitors pursuing to compete with NVIDIA?'}\n",
      "{'answer': 'NVIDIA’s 10-K filing identifies several key competitors across various product categories and industries. These competitors are pursuing a range of strategies, products, and initiatives to compete with NVIDIA.\\nThe key competitors include:\\nAdvanced Micro Devices, Inc. (AMD) – Competing with discrete and integrated GPUs, accelerated computing solutions, and networking products, including DPUs.\\nHuawei Technologies Co. Ltd. – Competing with GPUs, CPUs, and accelerated computing solutions, including AI hardware and software, as well as Arm-based CPUs and networking products.\\nIntel Corporation – Competing with discrete GPUs, custom chips, accelerated computing solutions, and networking products, including DPUs and high-performance interconnect technologies.\\nAlibaba Group – Operating internal teams developing hardware and software solutions that incorporate accelerated or AI computing functionality into their cloud platforms.\\nAlphabet Inc. (Google) – Developing internal hardware and software solutions for accelerated and AI computing, particularly for cloud services.\\nAmazon, Inc. – Developing internal accelerated and AI computing solutions for Amazon Web Services (AWS), as well as Arm-based CPUs for its cloud infrastructure.\\nBaidu, Inc. – Developing internal hardware and software with accelerated and AI computing functionality, particularly for its cloud services and AI platforms.\\nMicrosoft Corporation – Developing internal accelerated and AI computing hardware and software solutions for its Azure cloud platform and incorporating Arm-based CPUs into its solutions.\\nAmbarella, Inc. – Providing SoC products for embedded applications, including autonomous machines and automotive applications.\\nBroadcom Inc. – Competing with SoCs used in servers, embedded devices, and networking products, including high-performance interconnect products such as Ethernet and proprietary technologies.\\nQualcomm Incorporated – Providing SoC products for various embedded applications, including automotive and gaming devices.\\nRenesas Electronics Corporation – Providing SoC products for embedded systems, including automotive applications.\\nSamsung Electronics – Providing SoCs for embedded systems, including gaming devices and autonomous machines.\\nTesla, Inc. – Designing its own internal SoC products for its electric vehicles and autonomous driving systems.\\nArista Networks – Competing in networking products, particularly switches and network adapters.\\nCisco Systems, Inc. – Competing in networking products, including high-performance interconnect technologies.\\nHewlett Packard Enterprise Company – Competing in networking products and data center infrastructure.\\nLumentum Holdings – Competing in optical networking and high-performance interconnect products.\\nMarvell Technology Group – Providing networking products, including high-performance interconnect technologies.\\nAdditionally, system vendors and large cloud service companies are developing internal hardware and software solutions, including networking products and AI computing platforms, to reduce reliance on third-party solutions like NVIDIA’s.\\nThese competitors are pursuing strategies such as developing lower-cost alternatives, offering custom hardware optimized for specific workloads (such as AI training and inference), designing their own internal chips to optimize performance for their platforms, integrating hardware and software tightly into their ecosystems, and expanding their portfolios to include high-performance interconnect solutions and complete systems. Many of these companies also leverage their existing customer bases and ecosystems to drive adoption of their proprietary technologies.\\nIn summary, NVIDIA faces competition from companies developing GPUs, CPUs, DPUs, SoCs, and networking hardware, as well as from large cloud providers with internal chip design teams focused on optimizing AI and accelerated computing performance within their platforms.\\n'}\n",
      "{'question': 'What was the net value of P&E in 2024 and how is it calculated in this specific report?'}\n",
      "{'answer': 'The net value of property and equipment in 2024 was $3,914 million. This value is calculated by taking the total gross value of property and equipment, which was $7,423 million as of January 28, 2024, and subtracting the accumulated depreciation and amortization, which amounted to $3,509 million. This calculation results in the net property and equipment value of $3,914 million, as shown in the report.'}\n",
      "{'question': 'How does NVIDIA’s change in cash and cash equivalents between fiscal year-end 2023 and 2024 compare to the change in total liabilities over the same period? And what does it indicate?'}\n",
      "{'answer': 'Based on NVIDIA’s Consolidated Balance Sheets, NVIDIA’s cash and cash equivalents increased from $3,389 million as of January 29, 2023 to $7,280 million as of January 28, 2024, representing an increase of $3,891 million. Over the same period, total liabilities increased from $19,081 million to $22,750 million, an increase of $3,669 million. This indicates that NVIDIA’s liquidity improved at a slightly faster pace than its liabilities, suggesting a strengthening financial position.'}\n",
      "{'question': 'List all people mentioned in the report. And what are their titles within the NVIDIA?'}\n",
      "{'answer': 'Jen-Hsun Huang – President and Chief Executive Officer, Director (Principal Executive Officer)\\nColette M. Kress – Executive Vice President and Chief Financial Officer (Principal Financial Officer)\\nAjay K. Puri – Executive Vice President, Worldwide Field Operations\\nDebora Shoquist – Executive Vice President, Operations\\nTimothy S. Teter – Executive Vice President and General Counsel\\nDonald Robertson – Vice President and Chief Accounting Officer (Principal Accounting Officer)\\nRobert Burgess – Director\\nTench Coxe – Director\\nJohn O. Dabiri – Director\\nPersis Drell – Director\\nDawn Hudson – Director\\nHarvey C. Jones – Director\\nMelissa B. Lora – Director\\nMichael McCaffery – Director\\nStephen C. Neal – Director\\nMark L. Perry – Director\\nA. Brooke Seawell – Director\\nAarti Shah – Director\\nMark Stevens – Director'}\n",
      "{'question': 'Which products and countries were affected by the recent U.S. export controls, and how did NVIDIA respond?'}\n",
      "{'answer': 'The October 2023 U.S. export controls affected NVIDIA products including A100, A800, H100, H800, L4, L40, L40S, and RTX 4090. These controls applied to exports to China, Hong Kong, and countries in Country Groups D1, D4, and D5. Specific countries mentioned include Saudi Arabia, United Arab Emirates, and Vietnam. In response, NVIDIA transitioned some testing, validation, supply, and distribution operations out of China and Hong Kong. The company also worked to expand its Data Center product portfolio to include alternatives that do not require licenses, and it started shipping alternative products to China in small volumes. Additionally, NVIDIA applied for export licenses where needed, though the process is slow, uncertain, and sometimes includes difficult conditions.'}\n",
      "{'question': 'When did the CEO join NVIDIA?'}\n",
      "{'answer': 'Jen-Hsun Huang co-founded NVIDIA in 1993 and has served as President, Chief Executive Officer, and a member of the Board of Directors since its inception.'}\n",
      "{'question': 'In which large markets does NVIDIA apply its expertise and provide platforms?'}\n",
      "{'answer': \"NVIDIA's platforms address four large markets where our expertise is critical: Data Center, Gaming, Professional Visualization, and Automotive.\"}\n",
      "{'question': 'Who is the CEO of NVIDIA?'}\n",
      "{'answer': 'The CEO of NVIDIA is Jen-Hsun Huang.'}\n"
     ]
    }
   ],
   "source": [
    "# Import the LangSmith client\n",
    "from langsmith import Client\n",
    "\n",
    "# Initialize the LangSmith client\n",
    "ls_client = Client()\n",
    "\n",
    "# Read an existing dataset by name\n",
    "dataset_name = \"RAG_Eval_QA\"\n",
    "dataset = ls_client.read_dataset(dataset_name=dataset_name)\n",
    "\n",
    "# List examples in the dataset\n",
    "examples = ls_client.list_examples(dataset_name=dataset_name)\n",
    "\n",
    "# Iterate through examples\n",
    "for example in examples:\n",
    "    print(example.inputs)  # Print input data\n",
    "    print(example.outputs)  # Print output data\n"
   ]
  },
  {
   "cell_type": "code",
   "execution_count": 26,
   "id": "c6f1120d",
   "metadata": {},
   "outputs": [
    {
     "name": "stderr",
     "output_type": "stream",
     "text": [
      "/var/folders/8_/66zkglc51d973l0mk64lcrkc0000gn/T/ipykernel_9582/2168577922.py:3: LangChainBetaWarning: Introduced in 0.2.24. API subject to change.\n",
      "  rate_limiter = InMemoryRateLimiter(\n"
     ]
    }
   ],
   "source": [
    "from langchain_core.rate_limiters import InMemoryRateLimiter\n",
    "\n",
    "rate_limiter = InMemoryRateLimiter(\n",
    "    requests_per_second=0.1,  # Slow down requests\n",
    "    check_every_n_seconds=0.1,\n",
    "    max_bucket_size=10\n",
    ")\n",
    "\n",
    "# Apply to your model\n",
    "\n",
    "model = ChatOpenAI(model=\"gpt-4o\", temperature=0, rate_limiter=rate_limiter)"
   ]
  },
  {
   "cell_type": "markdown",
   "id": "af60d1c6",
   "metadata": {},
   "source": [
    "## RAG Evaluators\n",
    "\n",
    "### Type 1: Reference Answer\n",
    "\n",
    "First, lets consider the case in which we want to compare our RAG chain answer to a reference answer.\n",
    "\n",
    "#### Eval flow\n",
    "\n",
    "We simply use an LLM-as-judge with an easily customized grader prompt: "
   ]
  },
  {
   "cell_type": "code",
   "execution_count": 27,
   "id": "edf12ae2",
   "metadata": {},
   "outputs": [],
   "source": [
    "# RAG chain\n",
    "def predict_rag_answer(example: dict):\n",
    "    \"\"\"Use this for answer evaluation\"\"\"\n",
    "    response = qualitative_retrieval_answer_retrival_app.invoke({\n",
    "    \"question\": example[\"question\"],\n",
    "    \"context\": \"\",  # Start with an empty context\n",
    "    \"answer\": \"\"   # Start with an empty answer\n",
    "})\n",
    "    return {\"answer\": response[\"answer\"]}"
   ]
  },
  {
   "cell_type": "code",
   "execution_count": 28,
   "id": "c68faa58",
   "metadata": {},
   "outputs": [],
   "source": [
    "def predict_rag_answer_with_context(example: dict):\n",
    "    \"\"\"Use this for evaluation of retrieved documents and hallucinations\"\"\"\n",
    "    response = qualitative_retrieval_answer_retrival_app.invoke({\n",
    "    \"question\": example[\"question\"],\n",
    "    \"context\": \"\",  # Start with an empty context\n",
    "    \"answer\": \"\"   # Start with an empty answer\n",
    "})\n",
    "    return {\"answer\": response[\"answer\"], \"contexts\": response[\"context\"]}"
   ]
  },
  {
   "cell_type": "code",
   "execution_count": 29,
   "id": "8d8ee11f",
   "metadata": {},
   "outputs": [],
   "source": [
    "# set the LANGSMITH_API_KEY environment variable (create key in settings)\n",
    "from langchain import hub\n",
    "grade_prompt_answer_accuracy = hub.pull(\"answer_vs_reference\")"
   ]
  },
  {
   "cell_type": "code",
   "execution_count": 30,
   "id": "3c4e1adb",
   "metadata": {},
   "outputs": [],
   "source": [
    "def answer_evaluator(run, example) -> dict:\n",
    "    \"\"\"\n",
    "    A simple evaluator for RAG answer accuracy\n",
    "    \"\"\"\n",
    "    \n",
    "    # Get summary\n",
    "    input_question = example.inputs[\"question\"]\n",
    "    reference = example.outputs[\"answer\"]\n",
    "    prediction = run.outputs[\"answer\"]\n",
    "\n",
    "    # LLM grader\n",
    "    # llm = ChatOpenAI(model=\"gpt-4o\", temperature=0)\n",
    "    \n",
    "    llm = model\n",
    " \n",
    "    # Structured prompt\n",
    "    \n",
    "    answer_grader = grade_prompt_answer_accuracy | llm\n",
    "\n",
    "    # Get score\n",
    "    score = answer_grader.invoke({\"question\": input_question,\n",
    "                                  \"correct_answer\": reference,\n",
    "                                  \"student_answer\": prediction})\n",
    "    score = score[\"Score\"]\n",
    "\n",
    "    return {\"key\": \"answer_score\", \"score\": score}"
   ]
  },
  {
   "cell_type": "code",
   "execution_count": 31,
   "id": "64d81319",
   "metadata": {},
   "outputs": [
    {
     "name": "stdout",
     "output_type": "stream",
     "text": [
      "View the evaluation results for experiment: 'RAG_Agent_Partial-96009770' at:\n",
      "https://smith.langchain.com/o/f09c54fc-44b8-4ffe-9055-bc40601f9137/datasets/7fad5e82-7b2d-438e-90e6-1e232f388896/compare?selectedSessions=6344fcae-8eb3-47c8-8f6b-4ca096144976\n",
      "\n",
      "\n"
     ]
    },
    {
     "data": {
      "application/vnd.jupyter.widget-view+json": {
       "model_id": "1f3a9f86d7524b5fac621c0b0ce72b48",
       "version_major": 2,
       "version_minor": 0
      },
      "text/plain": [
       "0it [00:00, ?it/s]"
      ]
     },
     "metadata": {},
     "output_type": "display_data"
    },
    {
     "name": "stdout",
     "output_type": "stream",
     "text": [
      "Retrieving relevant detailed chunks...Retrieving relevant detailed chunks...\n",
      "\n",
      "Retrieving relevant detailed chunks...\n",
      "Retrieving relevant page summaries...\n",
      "Retrieving relevant page summaries...\n",
      "Retrieving relevant page summaries...\n",
      "keeping only the relevant content...\n",
      "--------------------\n",
      "keeping only the relevant content...\n",
      "--------------------\n",
      "keeping only the relevant content...\n",
      "--------------------\n",
      "Determining if the document is relevant...\n",
      "The document is relevant.\n",
      "Answering the question from the retrieved context...\n",
      "Determining if the document is relevant...\n",
      "The document is relevant.\n",
      "Answering the question from the retrieved context...\n",
      "Determining if the document is relevant...\n",
      "The document is relevant.\n",
      "Answering the question from the retrieved context...\n",
      "answer before checking hallucination: The context provides information about the executive officers of NVIDIA, specifically mentioning Jen-Hsun Huang as the President and Chief Executive Officer. Therefore, the CEO of NVIDIA is Jen-Hsun Huang.\n",
      "Checking if the answer is grounded in the facts...\n",
      "answer before checking hallucination: NVIDIA's revenue for fiscal year 2024 was $60.9 billion, while the revenue for fiscal year 2023 was $26.97 billion. The year 2024 saw higher revenues, with an increase of $33.93 billion.\n",
      "Checking if the answer is grounded in the facts...\n",
      "answer before checking hallucination: NVIDIA applies its expertise and provides platforms in four large markets: Data Center, Gaming, Professional Visualization, and Automotive.\n",
      "Checking if the answer is grounded in the facts...\n",
      "The answer is grounded in the facts.\n",
      "Determining if the question is fully answered...\n",
      "The answer is grounded in the facts.\n",
      "Determining if the question is fully answered...\n",
      "The question can be fully answered.\n",
      "The question can be fully answered.\n",
      "The answer is grounded in the facts.\n",
      "Determining if the question is fully answered...\n",
      "The question can be fully answered.\n"
     ]
    }
   ],
   "source": [
    "from langsmith.evaluation import evaluate\n",
    "\n",
    "dataset_name = \"RAG_test_NVIDIA\"\n",
    "experiment_results = evaluate(\n",
    "    predict_rag_answer,\n",
    "    data=dataset_name,\n",
    "    evaluators=[answer_evaluator],\n",
    "    experiment_prefix=\"RAG_Agent_Partial\",\n",
    "    metadata={\"variant\": \"NVIDIA context, gpt-4o-mini\"},\n",
    ")"
   ]
  },
  {
   "cell_type": "markdown",
   "id": "9308f574",
   "metadata": {},
   "source": [
    "### Type 2: Answer Hallucination\n",
    "\n",
    "#### Eval flow\n",
    "\n",
    "We simply use an LLM-as-judge with an easily customized grader prompt: \n",
    "\n",
    "https://smith.langchain.com/hub/langchain-ai/rag-answer-hallucination"
   ]
  },
  {
   "cell_type": "code",
   "execution_count": 31,
   "id": "7de7a560",
   "metadata": {},
   "outputs": [],
   "source": [
    "# set the LANGSMITH_API_KEY environment variable (create key in settings)\n",
    "from langchain import hub\n",
    "grade_prompt_hallucinations = hub.pull(\"hallucination\")"
   ]
  },
  {
   "cell_type": "code",
   "execution_count": 32,
   "id": "25e08330",
   "metadata": {},
   "outputs": [],
   "source": [
    "# Prompt \n",
    "\n",
    "# grade_prompt_hallucinations = hub.pull(\"langchain-ai/rag-answer-hallucination\")\n",
    "\n",
    "def answer_hallucination_evaluator(run, example) -> dict:\n",
    "    \"\"\"\n",
    "    A simple evaluator for generation hallucination\n",
    "    \"\"\"\n",
    "    \n",
    "    # RAG inputs\n",
    "    input_question = example.inputs[\"question\"]\n",
    "    contexts = run.outputs[\"contexts\"]\n",
    "        \n",
    "    # RAG answer \n",
    "    prediction = run.outputs[\"answer\"]\n",
    "\n",
    "    # LLM grader\n",
    "    # llm = ChatOpenAI(model=\"gpt-4o\", temperature=0)\n",
    "    \n",
    "    llm = model\n",
    "\n",
    "    # Structured prompt\n",
    "    answer_grader = grade_prompt_hallucinations | llm\n",
    "\n",
    "    # Get score\n",
    "    score = answer_grader.invoke({\"documents\": contexts,\n",
    "                                  \"student_answer\": prediction})\n",
    "    score = score[\"Score\"]\n",
    "\n",
    "    return {\"key\": \"answer_hallucination\", \"score\": score}"
   ]
  },
  {
   "cell_type": "code",
   "execution_count": 37,
   "id": "69ff577e",
   "metadata": {},
   "outputs": [
    {
     "name": "stdout",
     "output_type": "stream",
     "text": [
      "View the evaluation results for experiment: 'RAG_Agent_Partial-a686938f' at:\n",
      "https://smith.langchain.com/o/f09c54fc-44b8-4ffe-9055-bc40601f9137/datasets/7fad5e82-7b2d-438e-90e6-1e232f388896/compare?selectedSessions=8c49114a-7eb1-4cb3-bd03-b75af894e70b\n",
      "\n",
      "\n"
     ]
    },
    {
     "data": {
      "application/vnd.jupyter.widget-view+json": {
       "model_id": "46d7e9f2d3d3415d936edff5c049e5fb",
       "version_major": 2,
       "version_minor": 0
      },
      "text/plain": [
       "0it [00:00, ?it/s]"
      ]
     },
     "metadata": {},
     "output_type": "display_data"
    },
    {
     "name": "stdout",
     "output_type": "stream",
     "text": [
      "Retrieving relevant detailed chunks...Retrieving relevant detailed chunks...\n",
      "\n",
      "Retrieving relevant detailed chunks...\n",
      "Retrieving relevant page summaries...Retrieving relevant page summaries...\n",
      "\n",
      "Retrieving relevant page summaries...\n",
      "keeping only the relevant content...\n",
      "--------------------\n",
      "keeping only the relevant content...\n",
      "--------------------\n",
      "keeping only the relevant content...\n",
      "--------------------\n",
      "Determining if the document is relevant...\n",
      "The document is relevant.\n",
      "Answering the question from the retrieved context...\n",
      "Determining if the document is relevant...\n",
      "The document is relevant.\n",
      "Answering the question from the retrieved context...\n",
      "answer before checking hallucination: The context provides information about the executive officers of NVIDIA, specifically mentioning Jen-Hsun Huang as the President and Chief Executive Officer. Therefore, the CEO of NVIDIA is Jen-Hsun Huang.\n",
      "Checking if the answer is grounded in the facts...\n",
      "The answer is grounded in the facts.\n",
      "Determining if the question is fully answered...\n",
      "Determining if the document is relevant...\n",
      "The document is relevant.\n",
      "Answering the question from the retrieved context...\n",
      "The question can be fully answered.answer before checking hallucination: NVIDIA applies its expertise and provides platforms in four large markets: Data Center, Gaming, Professional Visualization, and Automotive.\n",
      "Checking if the answer is grounded in the facts...\n",
      "\n",
      "The answer is grounded in the facts.\n",
      "Determining if the question is fully answered...\n",
      "answer before checking hallucination: NVIDIA's revenue for fiscal year 2024 was $60.9 billion, while the revenue for fiscal year 2023 was $26.97 billion. The year 2024 saw higher revenues compared to 2023. The difference in revenue between the two years is $60.9 billion - $26.97 billion = $33.93 billion.\n",
      "Checking if the answer is grounded in the facts...\n",
      "The question can be fully answered.\n",
      "The answer is grounded in the facts.\n",
      "Determining if the question is fully answered...\n",
      "The question can be fully answered.\n"
     ]
    }
   ],
   "source": [
    "dataset_name = \"RAG_test_NVIDIA\"\n",
    "experiment_results = evaluate(\n",
    "    predict_rag_answer_with_context,\n",
    "    data=dataset_name,\n",
    "    evaluators=[answer_hallucination_evaluator],\n",
    "    experiment_prefix=\"RAG_Agent_Partial\",\n",
    "    metadata={\"variant\": \"NVIDIA context, gpt-4o-mini\"},\n",
    ")"
   ]
  },
  {
   "cell_type": "markdown",
   "id": "fbd75b51",
   "metadata": {},
   "source": [
    "### Type 3: Document Relevance to Question\n",
    "\n",
    "#### Eval flow\n",
    "\n",
    "We simply use an LLM-as-judge with an easily customized grader prompt: \n",
    "\n",
    "https://smith.langchain.com/hub/langchain-ai/rag-document-relevance"
   ]
  },
  {
   "cell_type": "code",
   "execution_count": 33,
   "id": "a289c091",
   "metadata": {},
   "outputs": [],
   "source": [
    "# set the LANGSMITH_API_KEY environment variable (create key in settings)\n",
    "from langchain import hub\n",
    "grade_prompt_doc_relevance = hub.pull(\"doc_question_relevance\")"
   ]
  },
  {
   "cell_type": "code",
   "execution_count": 34,
   "id": "7d04227e",
   "metadata": {},
   "outputs": [],
   "source": [
    "# Grade prompt \n",
    "# grade_prompt_doc_relevance = hub.pull(\"langchain-ai/rag-document-relevance\")\n",
    "\n",
    "def docs_relevance_evaluator(run, example) -> dict:\n",
    "    \"\"\"\n",
    "    A simple evaluator for document relevance\n",
    "    \"\"\"\n",
    "    \n",
    "    # RAG inputs\n",
    "    input_question = example.inputs[\"question\"]\n",
    "    contexts = run.outputs[\"contexts\"]\n",
    "        \n",
    "    # RAG answer \n",
    "    prediction = run.outputs[\"answer\"]\n",
    "\n",
    "    # LLM grader\n",
    "    # llm = ChatOpenAI(model=\"gpt-4o\", temperature=0)\n",
    "    \n",
    "    llm = model\n",
    "\n",
    "    # Structured prompt\n",
    "    answer_grader = grade_prompt_doc_relevance | llm\n",
    "\n",
    "    # Get score\n",
    "    score = answer_grader.invoke({\"question\":input_question,\n",
    "                                  \"documents\":contexts})\n",
    "    score = score[\"Score\"]\n",
    "\n",
    "    return {\"key\": \"document_relevance\", \"score\": score}"
   ]
  },
  {
   "cell_type": "code",
   "execution_count": 41,
   "id": "23f2f8c4",
   "metadata": {},
   "outputs": [
    {
     "name": "stdout",
     "output_type": "stream",
     "text": [
      "View the evaluation results for experiment: 'RAG_Agent_Partial-b4540290' at:\n",
      "https://smith.langchain.com/o/f09c54fc-44b8-4ffe-9055-bc40601f9137/datasets/7fad5e82-7b2d-438e-90e6-1e232f388896/compare?selectedSessions=33551c38-1b06-4add-8a04-8a6b1c8072eb\n",
      "\n",
      "\n"
     ]
    },
    {
     "data": {
      "application/vnd.jupyter.widget-view+json": {
       "model_id": "a21a289a5797481f874871c9a1af3ad1",
       "version_major": 2,
       "version_minor": 0
      },
      "text/plain": [
       "0it [00:00, ?it/s]"
      ]
     },
     "metadata": {},
     "output_type": "display_data"
    },
    {
     "name": "stdout",
     "output_type": "stream",
     "text": [
      "Retrieving relevant detailed chunks...\n",
      "Retrieving relevant detailed chunks...\n",
      "Retrieving relevant detailed chunks...\n",
      "Retrieving relevant page summaries...\n",
      "Retrieving relevant page summaries...\n",
      "Retrieving relevant page summaries...\n",
      "keeping only the relevant content...keeping only the relevant content...\n",
      "--------------------\n",
      "\n",
      "--------------------\n",
      "keeping only the relevant content...\n",
      "--------------------\n",
      "Determining if the document is relevant...\n",
      "The document is relevant.\n",
      "Answering the question from the retrieved context...\n",
      "Determining if the document is relevant...\n",
      "The document is relevant.\n",
      "Answering the question from the retrieved context...\n",
      "answer before checking hallucination: The context provides information about the executive officers of NVIDIA, specifically mentioning Jen-Hsun Huang as the President and Chief Executive Officer. Therefore, the CEO of NVIDIA is Jen-Hsun Huang.\n",
      "Checking if the answer is grounded in the facts...\n",
      "answer before checking hallucination: NVIDIA's revenue for fiscal year 2024 was $60.9 billion, while the revenue for fiscal year 2023 was $26.97 billion. The year 2024 saw higher revenues. To find out by how much, we subtract the 2023 revenue from the 2024 revenue: $60.9 billion - $26.97 billion = $33.93 billion. Therefore, NVIDIA's revenue in 2024 was $33.93 billion higher than in 2023.\n",
      "Checking if the answer is grounded in the facts...\n",
      "The answer is grounded in the facts.\n",
      "Determining if the question is fully answered...\n",
      "The question can be fully answered.\n",
      "The answer is grounded in the facts.\n",
      "Determining if the question is fully answered...\n",
      "The question can be fully answered.\n",
      "Determining if the document is relevant...\n",
      "The document is relevant.\n",
      "Answering the question from the retrieved context...\n",
      "answer before checking hallucination: NVIDIA applies its expertise and provides platforms in four large markets: Data Center, Gaming, Professional Visualization, and Automotive.\n",
      "Checking if the answer is grounded in the facts...\n",
      "The answer is grounded in the facts.\n",
      "Determining if the question is fully answered...\n",
      "The question can be fully answered.\n"
     ]
    }
   ],
   "source": [
    "dataset_name = \"RAG_test_NVIDIA\"\n",
    "experiment_results = evaluate(\n",
    "    predict_rag_answer_with_context,\n",
    "    data=dataset_name,\n",
    "    evaluators=[docs_relevance_evaluator],\n",
    "    experiment_prefix=\"RAG_Agent_Partial\",\n",
    "    metadata={\"variant\": \"NVIDIA context, gpt-4ov-mini\"},\n",
    ")"
   ]
  },
  {
   "cell_type": "markdown",
   "id": "af7b09c1",
   "metadata": {},
   "source": [
    "# Complete Evaluation"
   ]
  },
  {
   "cell_type": "code",
   "execution_count": 35,
   "id": "f36c84c8",
   "metadata": {},
   "outputs": [
    {
     "name": "stdout",
     "output_type": "stream",
     "text": [
      "View the evaluation results for experiment: 'RAG_Agent_Partial_Semantic-66bb815b' at:\n",
      "https://smith.langchain.com/o/f09c54fc-44b8-4ffe-9055-bc40601f9137/datasets/176f75c1-604f-435b-b0c7-9eda1bdef775/compare?selectedSessions=16bbb805-166f-4197-9ab2-0620e82c79da\n",
      "\n",
      "\n"
     ]
    },
    {
     "data": {
      "application/vnd.jupyter.widget-view+json": {
       "model_id": "0ee3cf5327af468681bdbff8d652edc7",
       "version_major": 2,
       "version_minor": 0
      },
      "text/plain": [
       "0it [00:00, ?it/s]"
      ]
     },
     "metadata": {},
     "output_type": "display_data"
    },
    {
     "name": "stdout",
     "output_type": "stream",
     "text": [
      "Retrieving relevant detailed chunks...Retrieving relevant detailed chunks...\n",
      "\n",
      "Retrieving relevant detailed chunks...\n",
      "Retrieving relevant detailed chunks...\n",
      "Retrieving relevant detailed chunks...\n",
      "Retrieving relevant detailed chunks...\n",
      "Retrieving relevant detailed chunks...\n",
      "Retrieving relevant detailed chunks...\n",
      "Retrieving relevant detailed chunks...\n",
      "Retrieving relevant detailed chunks...\n",
      "Retrieving relevant detailed chunks...\n",
      "Retrieving relevant detailed chunks...\n",
      "Retrieving relevant page summaries...\n",
      "Retrieving relevant page summaries...\n",
      "Retrieving relevant page summaries...\n",
      "Retrieving relevant page summaries...\n",
      "Retrieving relevant page summaries...\n",
      "Retrieving relevant page summaries...\n",
      "Retrieving relevant page summaries...\n",
      "Retrieving relevant page summaries...\n",
      "Retrieving relevant page summaries...\n",
      "Retrieving relevant page summaries...\n",
      "keeping only the relevant content...\n",
      "--------------------\n",
      "keeping only the relevant content...\n",
      "--------------------\n",
      "keeping only the relevant content...\n",
      "--------------------\n",
      "keeping only the relevant content...\n",
      "--------------------\n",
      "keeping only the relevant content...\n",
      "--------------------\n",
      "keeping only the relevant content...\n",
      "--------------------\n",
      "keeping only the relevant content...\n",
      "--------------------\n",
      "keeping only the relevant content...\n",
      "--------------------\n",
      "keeping only the relevant content...\n",
      "--------------------\n",
      "keeping only the relevant content...\n",
      "--------------------\n",
      "Determining if the document is relevant...\n",
      "The document is relevant.\n",
      "Answering the question from the retrieved context...\n",
      "Determining if the document is relevant...\n",
      "The document is relevant.\n",
      "Answering the question from the retrieved context...\n",
      "Determining if the document is relevant...\n",
      "The document is relevant.\n",
      "Answering the question from the retrieved context...\n",
      "Determining if the document is relevant...\n",
      "The document is relevant.\n",
      "Answering the question from the retrieved context...\n",
      "Determining if the document is relevant...\n",
      "The document is relevant.\n",
      "Answering the question from the retrieved context...\n",
      "Retrieving relevant page summaries...\n",
      "keeping only the relevant content...\n",
      "--------------------\n",
      "Retrieving relevant page summaries...\n",
      "Determining if the document is relevant...\n",
      "The document is relevant.\n",
      "Answering the question from the retrieved context...\n",
      "Determining if the document is relevant...\n",
      "The document is relevant.\n",
      "Answering the question from the retrieved context...\n",
      "keeping only the relevant content...\n",
      "--------------------\n",
      "answer before checking hallucination: The context provides information about the executive officers of NVIDIA and their joining dates. It states that Ajay K. Puri joined NVIDIA in 2005, Debora Shoquist joined in 2007, Colette M. Kress joined in 2013, and Timothy S. Teter joined in 2017. Therefore, the latest executive officer to join NVIDIA is Timothy S. Teter, who joined in 2017.\n",
      "Checking if the answer is grounded in the facts...\n",
      "Determining if the document is relevant...\n",
      "The document is relevant.\n",
      "Answering the question from the retrieved context...\n",
      "answer before checking hallucination: NVIDIA's revenue in 2024 was $60.9 billion, while in 2023 it was $27.0 billion. The year 2024 saw higher revenues, with an increase of $33.9 billion.\n",
      "Checking if the answer is grounded in the facts...\n",
      "answer before checking hallucination: As of the end of fiscal year 2024, NVIDIA's workforce was composed of 79% male and 20% female employees, indicating that there are significantly more men than women in the workforce. Additionally, 83% of the employees are engaged in technical roles, while 7,400 employees are in non-technical positions such as sales, marketing, operations, and administrative roles. Therefore, there are more technical people hired compared to non-technical people.\n",
      "Checking if the answer is grounded in the facts...\n",
      "The answer is grounded in the facts.\n",
      "Determining if the question is fully answered...\n",
      "The answer is grounded in the facts.\n",
      "Determining if the question is fully answered...\n",
      "The answer is grounded in the facts.\n",
      "Determining if the question is fully answered...\n",
      "answer before checking hallucination: Colette M. Kress is NVIDIA's Chief Financial Officer (CFO). She joined NVIDIA in 2013 as Executive Vice President and CFO. Prior to joining NVIDIA, she served as Senior Vice President and Chief Financial Officer of the Business Technology and Operations Finance organization at Cisco Systems, Inc. from 2010. Before that, she held various positions at Microsoft from 1997 to 2010, including Chief Financial Officer of the Server and Tools division. \n",
      "\n",
      "Regarding the Arm Acquisition, the termination of the Share Purchase Agreement between NVIDIA and SoftBank was announced in February 2022. Since Colette M. Kress joined NVIDIA in 2013, she was indeed already at the firm when the Arm Acquisition was terminated.\n",
      "Checking if the answer is grounded in the facts...\n",
      "answer before checking hallucination: The conflict in Israel affects NVIDIA's business by potentially disrupting product development and operations due to the absence of employees who have been called up for active military duty. Approximately 3,700 employees in the region are primarily involved in research and development, operations, and sales and marketing of networking products. This number represents about 12.5% of NVIDIA's total workforce of approximately 29,600 employees. While NVIDIA has not experienced significant impacts or expenses to its business so far, the ongoing conflict could lead to future challenges in product development, operations, and revenue.\n",
      "Checking if the answer is grounded in the facts...\n",
      "The question can be fully answered.\n",
      "Retrieving relevant detailed chunks...\n",
      "The question can be fully answered.\n",
      "Retrieving relevant detailed chunks...\n",
      "Determining if the document is relevant...\n",
      "The document is relevant.\n",
      "Answering the question from the retrieved context...\n",
      "Retrieving relevant page summaries...\n",
      "Retrieving relevant page summaries...\n",
      "The answer is grounded in the facts.\n",
      "Determining if the question is fully answered...\n",
      "The question can be fully answered.\n",
      "Retrieving relevant detailed chunks...\n",
      "The answer is grounded in the facts.\n",
      "Determining if the question is fully answered...\n",
      "keeping only the relevant content...\n",
      "--------------------\n",
      "answer before checking hallucination: To calculate the working capital of NVIDIA in 2024, we need to determine the current assets and current liabilities from the provided balance sheet data.\n",
      "\n",
      "From the context:\n",
      "- Total current assets (2024): $44,345 million\n",
      "- Total current liabilities (2024): $10,631 million\n",
      "\n",
      "Working Capital = Current Assets - Current Liabilities\n",
      "\n",
      "Working Capital = $44,345 million - $10,631 million = $33,714 million\n",
      "\n",
      "This indicates that NVIDIA has a strong working capital position of $33.714 billion in 2024. A positive working capital suggests that the company has sufficient short-term assets to cover its short-term liabilities, which is a sign of good financial health and liquidity.\n",
      "Checking if the answer is grounded in the facts...\n",
      "Retrieving relevant page summaries...\n",
      "keeping only the relevant content...\n",
      "--------------------\n",
      "Determining if the document is relevant...\n",
      "The document is relevant.\n",
      "Answering the question from the retrieved context...\n",
      "Determining if the document is relevant...\n",
      "The document is relevant.\n",
      "Answering the question from the retrieved context...\n",
      "The answer is grounded in the facts.\n",
      "Determining if the question is fully answered...\n",
      "keeping only the relevant content...\n",
      "--------------------\n",
      "The question can be fully answered.\n",
      "Retrieving relevant detailed chunks...\n",
      "The question can be fully answered.\n",
      "Retrieving relevant detailed chunks...\n",
      "Retrieving relevant page summaries...\n",
      "Retrieving relevant page summaries...\n",
      "keeping only the relevant content...\n",
      "--------------------\n",
      "The question can be fully answered.\n",
      "Retrieving relevant detailed chunks...\n",
      "keeping only the relevant content...\n",
      "--------------------\n",
      "answer before checking hallucination: To determine which two line items contributed the most to NVIDIA's total asset increase between January 29, 2023, and January 28, 2024, we can analyze the changes in the balance sheet:\n",
      "\n",
      "1. **Total Assets**: Increased from $41.182 billion to $65.728 billion, a total increase of approximately $24.546 billion.\n",
      "\n",
      "2. **Current Assets**: Increased from $23.073 billion to $44.345 billion, an increase of approximately $21.272 billion.\n",
      "\n",
      "3. **Cash and Cash Equivalents**: Increased from $3.389 billion to $7.280 billion, an increase of approximately $3.891 billion.\n",
      "\n",
      "4. **Marketable Securities**: Increased from $9.907 billion to $18.704 billion, an increase of approximately $8.797 billion.\n",
      "\n",
      "5. **Accounts Receivable**: Increased from $3.827 billion to $9.999 billion, an increase of approximately $6.172 billion.\n",
      "\n",
      "6. **Inventories**: Increased slightly from $5.159 billion to $5.282 billion, an increase of approximately $123 million.\n",
      "\n",
      "From this analysis, the two line items that contributed the most to the increase in total assets are:\n",
      "- **Current Assets**: Increased by approximately $21.272 billion.\n",
      "- **Marketable Securities**: Increased by approximately $8.797 billion.\n",
      "\n",
      "This suggests that NVIDIA's capital deployment focus has been on enhancing liquidity and investing in marketable securities, likely to support its growth initiatives, particularly in AI and data center products. The significant increase in current assets indicates a strong emphasis on maintaining a robust cash position and investing in securities that can provide returns while supporting operational needs.\n",
      "Checking if the answer is grounded in the facts...\n",
      "Retrieving relevant page summaries...\n"
     ]
    },
    {
     "name": "stdout",
     "output_type": "stream",
     "text": [
      "keeping only the relevant content...\n",
      "--------------------\n",
      "The answer is grounded in the facts.\n",
      "Determining if the question is fully answered...\n",
      "Determining if the document is relevant...\n",
      "The document is relevant.\n",
      "Answering the question from the retrieved context...\n",
      "Determining if the document is relevant...\n",
      "The document is relevant.\n",
      "Answering the question from the retrieved context...\n",
      "answer before checking hallucination: To analyze the modest increase in NVIDIA's cash balance at year-end 2024 despite a substantial increase in operating cash flow, we can break down the situation as follows:\n",
      "\n",
      "1. **Operating Cash Flow Increase**: NVIDIA's cash flow from operating activities surged to $28.1 billion in fiscal year 2024, a significant increase from $5.6 billion in 2023. This increase was primarily driven by a rise in net income, which jumped from $4.4 billion to $29.8 billion, along with adjustments for stock-based compensation.\n",
      "\n",
      "2. **Investing Activities**: Despite the strong operating cash flow, NVIDIA experienced a net cash outflow of $10.6 billion from investing activities. This outflow was mainly due to purchases of marketable securities amounting to $18.2 billion, indicating a strategic investment in financial instruments. Such investments can be seen as a way to manage excess cash and potentially earn returns, but they also reduce the cash available at year-end.\n",
      "\n",
      "3. **Financing Activities**: The company also had a net cash outflow of $13.6 billion from financing activities, which included significant payments related to stock repurchases and tax payments on restricted stock units. This suggests that NVIDIA is prioritizing returning value to shareholders through stock buybacks, which can enhance earnings per share but also deplete cash reserves.\n",
      "\n",
      "4. **Overall Cash Position**: As a result of these activities, NVIDIA's cash and cash equivalents increased to $7.3 billion by the end of 2024, up from $3.4 billion in 2023. While this is a positive increase, it is modest compared to the substantial cash inflow from operations, indicating that the company is actively using its cash for investments and shareholder returns rather than accumulating cash reserves.\n",
      "\n",
      "5. **Capital Allocation Priorities**: The modest increase in cash suggests that NVIDIA is focused on growth and shareholder returns rather than hoarding cash. The significant investments in marketable securities and the commitment to stock repurchases indicate a strategy aimed at enhancing shareholder value while also investing in future growth opportunities.\n",
      "\n",
      "In conclusion, NVIDIA's capital allocation priorities appear to be centered on balancing growth investments with returning capital to shareholders. The modest increase in cash reflects a strategic choice to reinvest in the business and reward shareholders rather than simply increasing cash reserves.\n",
      "Checking if the answer is grounded in the facts...\n",
      "Determining if the document is relevant...\n",
      "The document is relevant.\n",
      "Answering the question from the retrieved context...\n",
      "answer before checking hallucination: NVIDIA has several types of costs, primarily categorized into cost of revenue and operating expenses. \n",
      "\n",
      "1. **Cost of Revenue**: This includes costs associated with semiconductors, wafer fabrication, assembly, testing, packaging, manufacturing support costs, and other related expenses. For the year ended January 28, 2024, the cost of revenue was 27.3% of revenue, down from 43.1% in the previous year (January 29, 2023). This significant decrease indicates improved efficiency and profitability in production.\n",
      "\n",
      "2. **Operating Expenses**: These are further divided into:\n",
      "   - **Research and Development (R&D)**: This cost was 14.2% of revenue in 2024, down from 27.2% in 2023, reflecting a more efficient allocation of resources towards R&D.\n",
      "   - **Sales, General and Administrative (SG&A)**: This cost decreased to 4.4% of revenue in 2024 from 9.1% in 2023, indicating a reduction in overhead costs relative to revenue.\n",
      "   - **Acquisition Termination Cost**: This was a one-time cost of 5.0% of revenue in 2023, which was eliminated in 2024.\n",
      "\n",
      "Overall, total operating expenses as a percentage of revenue decreased from 41.3% in 2023 to 18.6% in 2024, showcasing a significant improvement in cost management and operational efficiency. \n",
      "\n",
      "In summary, NVIDIA's costs have decreased as a percentage of revenue over time, particularly in cost of revenue and operating expenses, leading to higher gross and net profit margins.\n",
      "Checking if the answer is grounded in the facts...\n",
      "The question can be fully answered.\n",
      "Retrieving relevant detailed chunks...\n",
      "The answer is grounded in the facts.\n",
      "Determining if the question is fully answered...\n",
      "Determining if the document is relevant...\n",
      "The document is relevant.\n",
      "Answering the question from the retrieved context...\n",
      "The answer is grounded in the facts.\n",
      "Determining if the question is fully answered...\n",
      "Retrieving relevant page summaries...\n",
      "keeping only the relevant content...\n",
      "--------------------\n",
      "Determining if the document is relevant...\n",
      "The document is relevant.\n",
      "Answering the question from the retrieved context...\n",
      "answer before checking hallucination: The net value of Property and Equipment (P&E) for NVIDIA Corporation as of January 28, 2024, was reported as $3.914 billion. This value is calculated by taking the total property and equipment valued at $7.423 billion and subtracting the accumulated depreciation of $3.509 billion. \n",
      "\n",
      "The calculation can be summarized as follows:\n",
      "\n",
      "Net Value of P&E = Total Property and Equipment - Accumulated Depreciation\n",
      "Net Value of P&E = $7.423 billion - $3.509 billion = $3.914 billion.\n",
      "Checking if the answer is grounded in the facts...\n",
      "answer before checking hallucination: The context states that Jen-Hsun Huang co-founded NVIDIA in 1993 and has served as the President and Chief Executive Officer since the company's inception.\n",
      "Checking if the answer is grounded in the facts...\n",
      "answer before checking hallucination: NVIDIA ensures that its autonomous vehicle platform meets the safety and complexity requirements of modern AV and EV systems through several key strategies:\n",
      "\n",
      "1. **AI-Based Hardware and Software Solution**: NVIDIA provides an AI-based hardware and software solution designed from the ground up based on automotive safety standards. This ensures that the platform adheres to the necessary safety protocols required for autonomous driving.\n",
      "\n",
      "2. **Full-Stack Approach**: The company adopts a full-stack approach that includes training deep neural networks using their Data Center computing solutions and running a complete perception, fusion, planning, and control stack within the vehicle on the NVIDIA DRIVE Hyperion platform. This comprehensive approach addresses the complexity of autonomous driving algorithms.\n",
      "\n",
      "3. **High-Performance Computing**: The DRIVE Hyperion platform consists of high-performance, energy-efficient DRIVE AGX computing hardware, which is essential for processing the complex algorithms required for autonomous driving.\n",
      "\n",
      "4. **Modular Software Platform**: NVIDIA offers an open, modular DRIVE software platform that supports various functions such as autonomous driving, mapping, and parking services. This modularity allows for continuous updates and improvements, enhancing safety and functionality over time.\n",
      "\n",
      "5. **Collaboration with Partners**: NVIDIA collaborates with several hundred partners in the automotive ecosystem, including automakers, truck makers, and research institutions, to develop and deploy AI systems for self-driving vehicles. This collaboration helps in sharing knowledge and best practices related to safety and complexity.\n",
      "\n",
      "6. **Continuous Innovation**: The platform is designed for continuous innovation, enabling vehicles to receive over-the-air updates that add new features and capabilities throughout their lifecycle, which is crucial for maintaining safety standards as technology evolves.\n",
      "\n",
      "7. **Simulation Solutions**: NVIDIA provides a scalable data center-based simulation solution, NVIDIA DRIVE Sim, for testing and validating self-driving platforms. This allows for rigorous testing of safety and performance before deployment in real-world scenarios.\n",
      "\n",
      "By integrating these strategies, NVIDIA ensures that its autonomous vehicle platform is equipped to handle the safety and complexity requirements of modern AV and EV systems.\n",
      "Checking if the answer is grounded in the facts...\n"
     ]
    },
    {
     "name": "stdout",
     "output_type": "stream",
     "text": [
      "The answer is grounded in the facts.\n",
      "Determining if the question is fully answered...\n",
      "The question can be fully answered.\n",
      "Retrieving relevant detailed chunks...\n",
      "The answer is grounded in the facts.\n",
      "Determining if the question is fully answered...\n",
      "Determining if the document is relevant...\n",
      "The document is relevant.\n",
      "Answering the question from the retrieved context...\n",
      "Retrieving relevant page summaries...\n",
      "The answer is grounded in the facts.\n",
      "Determining if the question is fully answered...\n",
      "answer before checking hallucination: To analyze NVIDIA's performance across different regions in the global market, we can break down the revenue figures provided in the context:\n",
      "\n",
      "1. **United States**: In the fiscal year ending January 28, 2024, NVIDIA generated $26,966 million in revenue from the United States, which is a significant increase from $8,292 million in 2023 and $4,349 million in 2022. This growth is attributed to higher demand in the U.S.-based Compute & Networking segment.\n",
      "\n",
      "2. **Taiwan**: Revenue from Taiwan was $13,405 million in 2024, up from $6,986 million in 2023 and $8,544 million in 2022. This indicates a strong performance in this region as well.\n",
      "\n",
      "3. **China (including Hong Kong)**: NVIDIA earned $10,306 million from China in 2024, which is an increase from $5,785 million in 2023 but a decrease from $7,111 million in 2022. This suggests fluctuating demand in this market.\n",
      "\n",
      "4. **Other Countries**: Revenue from other countries amounted to $10,245 million in 2024, up from $5,911 million in 2023 and $6,910 million in 2022, indicating growth in various international markets.\n",
      "\n",
      "5. **Overall Performance**: Total revenue for NVIDIA reached $60,922 million in 2024, a substantial increase from $26,974 million in 2023 and $26,914 million in 2022. Notably, revenue from sales to customers outside of the United States accounted for 56% of total revenue in 2024, down from 69% in 2023 and 84% in 2022, indicating a shift towards a more balanced revenue distribution between domestic and international markets.\n",
      "\n",
      "In summary, NVIDIA has shown strong growth in revenue across all regions, particularly in the United States and Taiwan, while experiencing some fluctuations in China. The overall trend indicates a robust performance in the global market, with increasing contributions from various geographic areas.\n",
      "Checking if the answer is grounded in the facts...\n",
      "The question can be fully answered.\n",
      "answer before checking hallucination: NVIDIA's approach to AI training and inferencing across data center-scale solutions exemplifies full-stack innovation through several key elements. Firstly, NVIDIA leverages a unified underlying architecture that integrates GPUs, CPUs, and DPUs, allowing for optimized performance across diverse computing requirements. This architecture supports parallel workloads, which are essential for training and inferencing neural networks, thus enabling significant performance improvements over traditional methods.\n",
      "\n",
      "Secondly, NVIDIA's full-stack innovation is evident in its comprehensive software offerings, including the CUDA programming model, NVIDIA AI Enterprise, and the DGX Cloud platform. These tools facilitate the development and deployment of AI applications, providing developers with the necessary resources to build scalable and efficient solutions. The introduction of DGX Cloud as an AI-training-as-a-service platform further enhances accessibility to advanced AI capabilities, allowing enterprises to utilize NVIDIA's technology without the need for extensive infrastructure investments.\n",
      "\n",
      "NVIDIA's ecosystem plays a crucial role in reinforcing its leadership position in AI. With over 4.7 million developers using CUDA and other software tools, NVIDIA has cultivated a large and active community that contributes to the continuous improvement and expansion of its technology. Partnerships with universities and startups through initiatives like the Inception program foster innovation and ensure that NVIDIA remains at the forefront of AI advancements. Additionally, collaborations with major cloud service providers and enterprises across various industries enable NVIDIA to deliver tailored solutions that meet specific market needs, further solidifying its dominance in the AI landscape.\n",
      "Checking if the answer is grounded in the facts...\n",
      "keeping only the relevant content...\n",
      "--------------------\n",
      "The question can be fully answered.\n",
      "The answer is grounded in the facts.\n",
      "Determining if the question is fully answered...\n",
      "The answer is grounded in the facts.\n",
      "Determining if the question is fully answered...\n",
      "The question can be fully answered.\n",
      "The question can be fully answered.\n",
      "The question can be fully answered.\n",
      "Determining if the document is relevant...\n",
      "The document is relevant.\n",
      "Answering the question from the retrieved context...\n",
      "Determining if the document is relevant...\n",
      "The document is relevant.\n",
      "Answering the question from the retrieved context...\n",
      "answer before checking hallucination: 1. Jen-Hsun Huang - President and Chief Executive Officer  \n",
      "2. Colette M. Kress - Executive Vice President and Chief Financial Officer  \n",
      "3. Ajay K. Puri - Executive Vice President, Worldwide Field Operations  \n",
      "4. Debora Shoquist - Executive Vice President, Operations  \n",
      "5. Timothy S. Teter - Executive Vice President and General Counsel  \n",
      "6. Donald Robertson - Vice President and Chief Accounting Officer  \n",
      "7. Robert Burgess - Director  \n",
      "8. Tench Coxe - Director  \n",
      "9. John O. Dabiri - Director  \n",
      "10. Persis Drell - Director  \n",
      "11. Dawn Hudson - Director  \n",
      "12. Harvey C. Jones - Director\n",
      "Checking if the answer is grounded in the facts...\n",
      "Determining if the document is relevant...\n",
      "The document is relevant.\n",
      "Answering the question from the retrieved context...\n",
      "The question can be fully answered.\n",
      "The answer is grounded in the facts.\n",
      "Determining if the question is fully answered...\n",
      "answer before checking hallucination: NVIDIA applies its expertise and provides platforms in four large markets: Data Center, Gaming, Professional Visualization, and Automotive.\n",
      "Checking if the answer is grounded in the facts...\n",
      "answer before checking hallucination: The context provides information about NVIDIA's executive officers, specifically mentioning Jen-Hsun Huang as the President and Chief Executive Officer. Therefore, the CEO of NVIDIA is Jen-Hsun Huang.\n",
      "Checking if the answer is grounded in the facts...\n",
      "The question can be fully answered.\n",
      "The answer is grounded in the facts.\n",
      "Determining if the question is fully answered...\n",
      "The answer is grounded in the facts.\n",
      "Determining if the question is fully answered...\n",
      "The question can be fully answered.\n",
      "The question can be fully answered.\n",
      "answer before checking hallucination: The recent U.S. export controls affected NVIDIA's A100 and H100 integrated circuits, DGX systems, and other products exceeding certain performance thresholds, including A800, H800, L4, L40, L40S, and RTX 4090. The countries impacted by these controls include China (including Hong Kong and Macau), Russia, and certain Middle Eastern countries such as Saudi Arabia and the United Arab Emirates. \n",
      "\n",
      "In response to these export controls, NVIDIA has been working to expand its Data Center product portfolio to offer new solutions that do not require a license or advance notice before shipment. The company has also started to ship alternatives to the China market in small volumes and is enhancing the resiliency and redundancy of its supply chain, which is currently concentrated in the Asia-Pacific region.\n",
      "Checking if the answer is grounded in the facts...\n",
      "The answer is grounded in the facts.\n",
      "Determining if the question is fully answered...\n",
      "answer before checking hallucination: To analyze NVIDIA's change in cash and cash equivalents compared to the change in total liabilities between fiscal year-end 2023 and 2024, we can break down the information as follows:\n",
      "\n",
      "1. **Change in Cash and Cash Equivalents:**  \n",
      "   - Cash and cash equivalents at the end of fiscal year 2023: $3.389 billion  \n",
      "   - Cash and cash equivalents at the end of fiscal year 2024: $7.280 billion  \n",
      "   - Change in cash and cash equivalents = $7.280 billion - $3.389 billion = **$3.891 billion increase**.\n",
      "\n",
      "2. **Change in Total Liabilities:**  \n",
      "   - Total liabilities at the end of fiscal year 2023: $19.081 billion  \n",
      "   - Total liabilities at the end of fiscal year 2024: $22.750 billion  \n",
      "   - Change in total liabilities = $22.750 billion - $19.081 billion = **$3.669 billion increase**.\n",
      "\n",
      "3. **Comparison of Changes:**  \n",
      "   - Cash and cash equivalents increased by $3.891 billion, while total liabilities increased by $3.669 billion.\n",
      "   - This indicates that the increase in cash and cash equivalents was greater than the increase in total liabilities by **$222 million**.\n",
      "\n",
      "4. **Implications:**  \n",
      "   - The fact that cash and cash equivalents increased more than total liabilities suggests that NVIDIA is improving its liquidity position.  \n",
      "   - This could indicate a stronger financial health, as the company is generating more cash relative to its obligations, which may provide more flexibility for future investments, operations, and potential debt repayments.\n",
      "Checking if the answer is grounded in the facts...\n"
     ]
    },
    {
     "name": "stdout",
     "output_type": "stream",
     "text": [
      "The question can be fully answered.\n",
      "answer before checking hallucination: The key competitors identified in NVIDIA's 10-K filing include:\n",
      "\n",
      "1. **Advanced Micro Devices, Inc. (AMD)** - Competes in the GPU and CPU markets, offering discrete and integrated GPUs, custom chips, and accelerated computing solutions.\n",
      "\n",
      "2. **Huawei Technologies Co. Ltd. (Huawei)** - Competes in the GPU, CPU, and AI computing sectors, providing hardware and software solutions.\n",
      "\n",
      "3. **Intel Corporation (Intel)** - Competes in the CPU market and is involved in AI computing, offering a range of hardware and software solutions.\n",
      "\n",
      "4. **Alibaba Group** - A large cloud services company that designs its own hardware and software incorporating accelerated or AI computing functionality.\n",
      "\n",
      "5. **Alphabet Inc. (Google)** - Another cloud services giant with internal teams focused on hardware and software for AI applications.\n",
      "\n",
      "6. **Amazon, Inc. (Amazon)** - Competes through its cloud services and designs hardware and software for AI computing.\n",
      "\n",
      "7. **Baidu, Inc.** - Engaged in AI and cloud services, competing in the accelerated computing space.\n",
      "\n",
      "8. **Microsoft Corporation (Microsoft)** - Competes by designing its own hardware and software for AI and cloud services.\n",
      "\n",
      "9. **Ambarella, Inc.** - Provides SoC products used in various applications, including automotive and gaming.\n",
      "\n",
      "10. **Broadcom Inc.** - Competes in the semiconductor market, providing hardware and software solutions for accelerated computing.\n",
      "\n",
      "11. **Qualcomm Incorporated** - Offers hardware and software solutions for SoC products, competing in various markets.\n",
      "\n",
      "12. **Renesas Electronics Corporation** - Competes in the semiconductor space, providing solutions for embedded systems.\n",
      "\n",
      "13. **Samsung** - Competes in the semiconductor market, providing various hardware solutions.\n",
      "\n",
      "14. **Arista Networks** - Competes in networking products, including switches and network adapters.\n",
      "\n",
      "15. **Cisco Systems, Inc.** - A major player in networking products, competing with solutions for data centers.\n",
      "\n",
      "16. **Hewlett Packard Enterprise Company** - Competes in networking and computing solutions.\n",
      "\n",
      "17. **Lumentum Holdings** - Competes in optical networking products.\n",
      "\n",
      "18. **Marvell Technology Group** - Competes in networking and storage solutions.\n",
      "\n",
      "**Strategies, Products, or Initiatives:**\n",
      "- Many of these competitors are focusing on developing their own hardware and software solutions that incorporate AI and accelerated computing functionalities.\n",
      "- Companies like Amazon, Microsoft, and Alibaba are investing heavily in cloud services and AI capabilities, often designing custom chips to optimize their offerings.\n",
      "- Competitors are also leveraging their existing resources and market presence to adapt quickly to technological changes and customer demands, which may include forming alliances or partnerships to enhance their product offerings.\n",
      "- Some competitors are focusing on specific markets, such as automotive or gaming, to carve out niches where they can compete effectively against NVIDIA.\n",
      "Checking if the answer is grounded in the facts...\n",
      "The answer is grounded in the facts.\n",
      "Determining if the question is fully answered...\n",
      "The answer is grounded in the facts.\n",
      "Determining if the question is fully answered...\n",
      "The question can be fully answered.\n",
      "The question can be fully answered.\n"
     ]
    }
   ],
   "source": [
    "from langsmith.evaluation import evaluate\n",
    "\n",
    "dataset_name = \"RAG_Eval_QA\"\n",
    "experiment_results = evaluate(\n",
    "    predict_rag_answer_with_context,\n",
    "    data=dataset_name,\n",
    "    evaluators=[answer_evaluator, answer_hallucination_evaluator, docs_relevance_evaluator],\n",
    "    experiment_prefix=\"RAG_Agent_Partial_Semantic\",\n",
    "    metadata={\"variant\": \"NVIDIA context, gpt-4o-mini\"},\n",
    ")"
   ]
  },
  {
   "cell_type": "markdown",
   "id": "7b290245",
   "metadata": {},
   "source": [
    "# Complete Evaluation "
   ]
  },
  {
   "cell_type": "code",
   "execution_count": 42,
   "id": "a5b2bea9",
   "metadata": {},
   "outputs": [
    {
     "name": "stdout",
     "output_type": "stream",
     "text": [
      "View the evaluation results for experiment: 'RAG_Agent_Partial-691a3556' at:\n",
      "https://smith.langchain.com/o/f09c54fc-44b8-4ffe-9055-bc40601f9137/datasets/7fad5e82-7b2d-438e-90e6-1e232f388896/compare?selectedSessions=0590cede-11a5-4a92-82a4-ebe7d5396ae8\n",
      "\n",
      "\n"
     ]
    },
    {
     "data": {
      "application/vnd.jupyter.widget-view+json": {
       "model_id": "b508480be04d432d80c4490fdb3b273d",
       "version_major": 2,
       "version_minor": 0
      },
      "text/plain": [
       "0it [00:00, ?it/s]"
      ]
     },
     "metadata": {},
     "output_type": "display_data"
    },
    {
     "name": "stdout",
     "output_type": "stream",
     "text": [
      "Retrieving relevant detailed chunks...Retrieving relevant detailed chunks...\n",
      "\n",
      "Retrieving relevant detailed chunks...\n",
      "Retrieving relevant page summaries...\n",
      "Retrieving relevant page summaries...\n",
      "Retrieving relevant page summaries...\n",
      "keeping only the relevant content...\n",
      "--------------------\n",
      "keeping only the relevant content...\n",
      "--------------------\n",
      "keeping only the relevant content...\n",
      "--------------------\n",
      "Determining if the document is relevant...\n",
      "The document is relevant.\n",
      "Answering the question from the retrieved context...\n",
      "Determining if the document is relevant...\n",
      "The document is relevant.\n",
      "Answering the question from the retrieved context...\n",
      "answer before checking hallucination: NVIDIA's revenue for fiscal year 2024 was $60.9 billion, while for fiscal year 2023 it was $26.97 billion. The year 2024 saw higher revenues, with an increase of $33.93 billion.\n",
      "Checking if the answer is grounded in the facts...\n",
      "The answer is grounded in the facts.\n",
      "Determining if the question is fully answered...\n",
      "answer before checking hallucination: NVIDIA applies its expertise and provides platforms in four large markets: Data Center, Gaming, Professional Visualization, and Automotive.\n",
      "Checking if the answer is grounded in the facts...\n",
      "The answer is grounded in the facts.\n",
      "Determining if the question is fully answered...\n",
      "The question can be fully answered.\n",
      "Determining if the document is relevant...\n",
      "The document is relevant.\n",
      "Answering the question from the retrieved context...\n",
      "answer before checking hallucination: The context provides information about the executive officers of NVIDIA, specifically mentioning Jen-Hsun Huang as the President and Chief Executive Officer. Therefore, the CEO of NVIDIA is Jen-Hsun Huang.\n",
      "Checking if the answer is grounded in the facts...\n",
      "The answer is grounded in the facts.\n",
      "Determining if the question is fully answered...\n",
      "The question can be fully answered.\n",
      "The question can be fully answered.\n"
     ]
    }
   ],
   "source": [
    "dataset_name = \"RAG_test_NVIDIA\"\n",
    "experiment_results = evaluate(\n",
    "    predict_rag_answer_with_context,\n",
    "    data=dataset_name,\n",
    "    evaluators=[answer_evaluator, answer_hallucination_evaluator, docs_relevance_evaluator],\n",
    "    experiment_prefix=\"RAG_Agent_Partial\",\n",
    "    metadata={\"variant\": \"NVIDIA context, gpt-4o-mini\"},\n",
    ")"
   ]
  },
  {
   "cell_type": "code",
   "execution_count": null,
   "id": "7d33c014",
   "metadata": {},
   "outputs": [],
   "source": []
  }
 ],
 "metadata": {
  "kernelspec": {
   "display_name": "Python 3 (ipykernel)",
   "language": "python",
   "name": "python3"
  },
  "language_info": {
   "codemirror_mode": {
    "name": "ipython",
    "version": 3
   },
   "file_extension": ".py",
   "mimetype": "text/x-python",
   "name": "python",
   "nbconvert_exporter": "python",
   "pygments_lexer": "ipython3",
   "version": "3.11.5"
  }
 },
 "nbformat": 4,
 "nbformat_minor": 5
}
